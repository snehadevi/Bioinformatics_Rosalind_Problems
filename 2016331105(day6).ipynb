{
 "cells": [
  {
   "cell_type": "markdown",
   "metadata": {},
   "source": [
    "# Task 1 BA4F"
   ]
  },
  {
   "cell_type": "code",
   "execution_count": 53,
   "metadata": {},
   "outputs": [],
   "source": [
    "def cyclic_peptide(string):\n",
    "    lis = []\n",
    "    ans = []\n",
    "    dic = {'G': 57, 'A': 71, 'S': 87, 'P': 97, 'V': 99, 'T': 101, 'C': 103, 'I': 113, 'L': 113, 'N': 114, 'D': 115, 'K': 128, 'Q': 128, 'E': 129, 'M': 131, 'H': 137, 'F': 147, \n",
    "           'R': 156, 'Y': 163, 'W': 186}\n",
    "    k = len(string)\n",
    "    peptide = string*2\n",
    "    for i in range(1, k):\n",
    "        for j in range(k):\n",
    "            lis.append(peptide[j:j+i])\n",
    "    lis.append(string)\n",
    "    ans.append(0)\n",
    "    for i in lis:\n",
    "        s = 0\n",
    "        for j in i:\n",
    "            s += dic[j]\n",
    "        ans.append(s)\n",
    "    ans.sort()\n",
    "    return ans"
   ]
  },
  {
   "cell_type": "code",
   "execution_count": 2,
   "metadata": {},
   "outputs": [],
   "source": [
    "def score_cyclic_peptide(string, exp_spectrum):\n",
    "    theor_spectrum = cyclic_peptide(string)\n",
    "    #print(theor_spectrum)\n",
    "    count = 0\n",
    "    for i in theor_spectrum:\n",
    "        if i in exp_spectrum:\n",
    "            count = count + 1\n",
    "            index = exp_spectrum.index(i)\n",
    "            exp_spectrum.pop(index)\n",
    "    return count "
   ]
  },
  {
   "cell_type": "code",
   "execution_count": 3,
   "metadata": {},
   "outputs": [
    {
     "name": "stdout",
     "output_type": "stream",
     "text": [
      "11\n"
     ]
    }
   ],
   "source": [
    "string = 'NQEL'\n",
    "exp_spectrum = [0, 99, 113, 114, 128, 227, 257, 299, 355, 356, 370, 371, 484]\n",
    "ans = score_cyclic_peptide(string, exp_spectrum)\n",
    "print(ans)"
   ]
  },
  {
   "cell_type": "code",
   "execution_count": 4,
   "metadata": {},
   "outputs": [
    {
     "name": "stdout",
     "output_type": "stream",
     "text": [
      "11\n"
     ]
    }
   ],
   "source": [
    "with open('rosalind.txt') as file:\n",
    "    inputs = file.read().split()\n",
    "    string = inputs[0]\n",
    "    exp_spectrum = [int(i) for i in inputs[1:]]\n",
    "\n",
    "\n",
    "ans2 = score_cyclic_peptide(string, exp_spectrum)\n",
    "print(ans2)"
   ]
  },
  {
   "cell_type": "markdown",
   "metadata": {},
   "source": [
    "# Task 2 BA4H"
   ]
  },
  {
   "cell_type": "code",
   "execution_count": 5,
   "metadata": {},
   "outputs": [],
   "source": [
    "def spec_convolution(lis):\n",
    "    lis.sort()\n",
    "    #print(lis)\n",
    "    convolution = []\n",
    "    for i in lis:\n",
    "        for j in lis:\n",
    "            if i<=j:\n",
    "                break\n",
    "            convolution.append(i-j)\n",
    "    return convolution"
   ]
  },
  {
   "cell_type": "code",
   "execution_count": 6,
   "metadata": {},
   "outputs": [
    {
     "name": "stdout",
     "output_type": "stream",
     "text": [
      "[137, 186, 49, 323, 186, 137]\n"
     ]
    }
   ],
   "source": [
    "ans = spec_convolution([0, 137, 186, 323])\n",
    "print(ans)"
   ]
  },
  {
   "cell_type": "code",
   "execution_count": 7,
   "metadata": {},
   "outputs": [
    {
     "name": "stdout",
     "output_type": "stream",
     "text": [
      "137 186 49 323 186 137\n"
     ]
    }
   ],
   "source": [
    "with open('rosalind.txt') as file:\n",
    "    inputs = file.read().split()\n",
    "    lis = [int(i) for i in inputs]\n",
    "\n",
    "\n",
    "ans2 = spec_convolution(lis)\n",
    "print(*ans2)"
   ]
  },
  {
   "cell_type": "markdown",
   "metadata": {},
   "source": [
    "# Task 3 BA4G"
   ]
  },
  {
   "cell_type": "code",
   "execution_count": 8,
   "metadata": {},
   "outputs": [],
   "source": [
    "def Expand(leader_board):\n",
    "    lis = [57, 71, 87, 97, 99, 101, 103, 113, 114, 115, 128, 129, 131, 137, 147, 156, 163, 186]\n",
    "    updated_lb = [i + [j] for i in leader_board for j in lis]\n",
    "    return updated_lb\n",
    "#print(Expand([[0]]))"
   ]
  },
  {
   "cell_type": "code",
   "execution_count": 9,
   "metadata": {},
   "outputs": [],
   "source": [
    "def score(lis, spectrum):\n",
    "    dic = {57: 'G', 71: 'A', 87: 'S', 97: 'P', 99: 'V', 101: 'T', 103: 'C', 113: 'L', 114: 'N', 115: 'D', 128: 'Q', 129: 'E', 131: 'M', 137: 'H', 147: 'F', 156: 'R', 163: 'Y', 186: 'W'}\n",
    "    exp_spectrum = spectrum.copy()\n",
    "    \n",
    "    string = [dic[i] for i in lis if i!=0]\n",
    "    theor_spectrum = cyclic_peptide(string)\n",
    "    \n",
    "    count = 0\n",
    "    for i in theor_spectrum:\n",
    "        if i in exp_spectrum:\n",
    "            count = count + 1\n",
    "            index = exp_spectrum.index(i)\n",
    "            exp_spectrum.pop(index)\n",
    "    return count \n",
    "#score( [0, 113, 186, 163],  [0, 71, 113, 129, 147, 200, 218, 260, 313, 331, 347, 389, 460])"
   ]
  },
  {
   "cell_type": "code",
   "execution_count": 10,
   "metadata": {},
   "outputs": [],
   "source": [
    "def Trim(leader_board, spectrum, N):\n",
    "    if len(leader_board)<=N:\n",
    "        return leader_board\n",
    "    else:\n",
    "        lis = [(i,score(lis, spectrum)) for i,lis in enumerate(leader_board)]\n",
    "        #print(lis)\n",
    "        lis.sort(key = lambda x: x[1], reverse=True)\n",
    "        #print(lis)\n",
    "        lis2 = [leader_board[i] for i,j in lis][:N]\n",
    "        #print(lis2)\n",
    "        last = lis[:N][-1]\n",
    "        #print(last)\n",
    "        lis3 = [leader_board[i] for i,j in lis[N:] if j==last[1]]\n",
    "        #print(lis3)\n",
    "        \n",
    "        return lis2+lis3"
   ]
  },
  {
   "cell_type": "code",
   "execution_count": 11,
   "metadata": {},
   "outputs": [],
   "source": [
    "def LeaderBoard(spectrum, N):\n",
    "    \n",
    "    leader_board = [[]]\n",
    "    leader_peptide = []\n",
    "    while leader_board !=[]:\n",
    "        #print(leader_board)\n",
    "        leader_board = Expand(leader_board)\n",
    "        for i in leader_board:\n",
    "            if sum(i) == spectrum[-1]:\n",
    "                if score(i, spectrum) > score(leader_peptide, spectrum):\n",
    "                    leader_peptide = i\n",
    "                #print(spectrum)\n",
    "            elif sum(i) > spectrum[-1]:\n",
    "                leader_board = [pep for pep in leader_board if pep != i]\n",
    "        leader_board = Trim(leader_board, spectrum, N)\n",
    "        #print(leader_board)\n",
    "    leader_peptide = [str(i) for i in leader_peptide]\n",
    "    return leader_peptide\n",
    "    "
   ]
  },
  {
   "cell_type": "code",
   "execution_count": 15,
   "metadata": {},
   "outputs": [
    {
     "name": "stdout",
     "output_type": "stream",
     "text": [
      "['71', '147', '113', '129']\n"
     ]
    }
   ],
   "source": [
    "with open('rosalind.txt') as file:\n",
    "    inputs = file.read().split()\n",
    "    N = int(inputs[0])\n",
    "    spectrum = [int(i) for i in inputs[1:]]\n",
    "\n",
    "\n",
    "ans = LeaderBoard(spectrum, N)\n",
    "print(ans)"
   ]
  },
  {
   "cell_type": "code",
   "execution_count": 16,
   "metadata": {},
   "outputs": [
    {
     "name": "stdout",
     "output_type": "stream",
     "text": [
      "71-147-113-129\n"
     ]
    }
   ],
   "source": [
    "print('-'.join(ans))"
   ]
  },
  {
   "cell_type": "markdown",
   "metadata": {},
   "source": [
    "# Task 4 BA4i"
   ]
  },
  {
   "cell_type": "code",
   "execution_count": 54,
   "metadata": {},
   "outputs": [],
   "source": [
    "def expand(leader_board, lis):\n",
    "    updated_lb = [i + [j] for i in leader_board for j in lis]\n",
    "    return updated_lb"
   ]
  },
  {
   "cell_type": "code",
   "execution_count": 55,
   "metadata": {},
   "outputs": [],
   "source": [
    "def find_frequent(spectrum, M):\n",
    "    convolution = spec_convolution(spectrum)\n",
    "    edited_convolution = [i for i in convolution if i>=57 and i<=200]\n",
    "    dic = Counter(edited_convolution)\n",
    "    common = dic.most_common()\n",
    "    common_N = dic.most_common(M)\n",
    "    frequent1 = [i[0] for i in common_N]\n",
    "    last = common_N[-1][1]\n",
    "    frequent2 = [i[0] for i in common[M:] if i[1]==last]\n",
    "    M_frequent = frequent1 + frequent2\n",
    "    M_frequent.sort()\n",
    "    \n",
    "    return M_frequent\n",
    "#find_masses(spectrum, M)"
   ]
  },
  {
   "cell_type": "code",
   "execution_count": 56,
   "metadata": {},
   "outputs": [],
   "source": [
    "def Trim(leader_board, spectrum, N):\n",
    "    if len(leader_board)<=N:\n",
    "        return leader_board\n",
    "    else:\n",
    "        lis = [(i,score(lis, spectrum)) for i,lis in enumerate(leader_board)]\n",
    "        #print(lis)\n",
    "        lis.sort(key = lambda x: x[1], reverse=True)\n",
    "        #print(lis)\n",
    "        lis2 = [leader_board[i] for i,j in lis][:N]\n",
    "        #print(lis2)\n",
    "        last = lis[:N][-1]\n",
    "        #print(last)\n",
    "        lis3 = [leader_board[i] for i,j in lis[N:] if j==last[1]]\n",
    "        #print(lis3)\n",
    "        \n",
    "        return lis2+lis3"
   ]
  },
  {
   "cell_type": "code",
   "execution_count": 57,
   "metadata": {},
   "outputs": [],
   "source": [
    "def score(lis, spectrum):\n",
    "    dic = {57: 'G', 71: 'A', 87: 'S', 97: 'P', 99: 'V', 101: 'T', 103: 'C', 113: 'L', 114: 'N', 115: 'D', 128: 'Q', 129: 'E', 131: 'M', 137: 'H', 147: 'F', 156: 'R', 163: 'Y', 186: 'W'}\n",
    "    exp_spectrum = spectrum.copy()\n",
    "    \n",
    "    string = [dic[i] for i in lis if i in dic]\n",
    "    theor_spectrum = cyclic_peptide(string)\n",
    "    \n",
    "    count = 0\n",
    "    for i in theor_spectrum:\n",
    "        if i in exp_spectrum:\n",
    "            count = count + 1\n",
    "            index = exp_spectrum.index(i)\n",
    "            exp_spectrum.pop(index)\n",
    "    return count "
   ]
  },
  {
   "cell_type": "code",
   "execution_count": 58,
   "metadata": {},
   "outputs": [],
   "source": [
    "from collections import Counter\n",
    "def convolution_sequencing(M, N, spectrum):\n",
    "    M_frequent = find_frequent(spectrum, M)\n",
    "  \n",
    "    leader_board = [[]]\n",
    "    leader_peptide = []\n",
    "    \n",
    "    while leader_board !=[]:\n",
    "        leader_board = expand(leader_board, M_frequent)\n",
    "        for i in leader_board:\n",
    "            if sum(i) == spectrum[-1]:\n",
    "                if score(i, spectrum) > score(leader_peptide, spectrum):\n",
    "                    leader_peptide = i\n",
    "                #print(spectrum)\n",
    "            elif sum(i) > spectrum[-1]:\n",
    "                leader_board = [pep for pep in leader_board if pep != i]\n",
    "        leader_board = Trim(leader_board, spectrum, N)\n",
    "        #print(leader_board)\n",
    "    leader_peptide = [str(i) for i in leader_peptide]\n",
    "    return leader_peptide\n",
    "    \n",
    "    return peptide\n",
    "    "
   ]
  },
  {
   "cell_type": "code",
   "execution_count": 59,
   "metadata": {},
   "outputs": [
    {
     "name": "stdout",
     "output_type": "stream",
     "text": [
      "163-156-113-113-101-103-113-71-156-156-101-128-131-113\n"
     ]
    }
   ],
   "source": [
    "with open('rosalind.txt') as file:\n",
    "    inputs = file.read().split()\n",
    "    M = int(inputs[0])\n",
    "    N = int(inputs[1])\n",
    "    spectrum = [int(i) for i in inputs[2:]]\n",
    "\n",
    "#print(M)\n",
    "#print(N)\n",
    "#print(spectrum)\n",
    "\n",
    "ans = convolution_sequencing(M, N, spectrum)\n",
    "ans = [str(i) for i in ans]\n",
    "print('-'.join(ans))"
   ]
  },
  {
   "cell_type": "markdown",
   "metadata": {},
   "source": [
    "# Task 5 BA9G"
   ]
  },
  {
   "cell_type": "code",
   "execution_count": 34,
   "metadata": {},
   "outputs": [],
   "source": [
    "def suffix_array(string):\n",
    "    lis = [(string[i:],str(i)) for i in range(len(string))]\n",
    "    lis = sorted(lis, key=lambda x:x[0])\n",
    "    suffix_array = [i[1] for i in lis]\n",
    "    \n",
    "    return suffix_array"
   ]
  },
  {
   "cell_type": "code",
   "execution_count": 36,
   "metadata": {},
   "outputs": [
    {
     "name": "stdout",
     "output_type": "stream",
     "text": [
      "15, 14, 0, 1, 12, 6, 4, 2, 8, 13, 3, 7, 9, 10, 11, 5\n"
     ]
    }
   ],
   "source": [
    "string = 'AACGATAGCGGTAGA$'\n",
    "ans = suffix_array(string)\n",
    "print(', '.join(ans))"
   ]
  },
  {
   "cell_type": "code",
   "execution_count": 37,
   "metadata": {},
   "outputs": [],
   "source": [
    "with open('rosalind.txt') as file:\n",
    "    string = file.read()\n",
    "ans1 = suffix_array(string)\n",
    "\n",
    "with open('ans.txt', 'w') as file:\n",
    "    file.write(', '.join(ans1))"
   ]
  },
  {
   "cell_type": "markdown",
   "metadata": {},
   "source": [
    "# Task 6 BA9A"
   ]
  },
  {
   "cell_type": "code",
   "execution_count": 64,
   "metadata": {},
   "outputs": [],
   "source": [
    "from collections import defaultdict\n",
    "def Trie(strings):\n",
    "    dic = {}\n",
    "    adj = {}\n",
    "    lis={}\n",
    "    j = 1\n",
    "    \n",
    "    for s in strings:\n",
    "        cur_node = '0'\n",
    "        for i in s:\n",
    "           \n",
    "            if cur_node in adj:\n",
    "                \n",
    "                lis_ch = [dic[j] for j in adj[cur_node]]\n",
    "                lis_nd = adj[cur_node]\n",
    "                if i in lis_ch:\n",
    "                    index = lis_ch.index(i)\n",
    "                    cur_node = lis_nd[index]\n",
    "                else:\n",
    "                    dic[str(j)] = i\n",
    "                    adj[cur_node].append(str(j))\n",
    "                    lis[cur_node, str(j)] = i\n",
    "                    cur_node = str(j)\n",
    "                    j = j+1\n",
    "            else:\n",
    "                dic[str(j)] = i\n",
    "                adj[cur_node] = [str(j)]\n",
    "                lis[cur_node, str(j)] = i\n",
    "                cur_node = str(j)\n",
    "                j = j+1\n",
    "    return (dic, adj, lis)"
   ]
  },
  {
   "cell_type": "code",
   "execution_count": 66,
   "metadata": {},
   "outputs": [
    {
     "name": "stdout",
     "output_type": "stream",
     "text": [
      "{'1': 'A', '2': 'T', '3': 'A', '4': 'G', '5': 'A', '6': 'C', '7': 'G', '8': 'A', '9': 'T'}\n",
      "{'0': ['1', '7'], '1': ['2'], '2': ['3', '6'], '3': ['4'], '4': ['5'], '7': ['8'], '8': ['9']}\n",
      "{('0', '1'): 'A', ('1', '2'): 'T', ('2', '3'): 'A', ('3', '4'): 'G', ('4', '5'): 'A', ('2', '6'): 'C', ('0', '7'): 'G', ('7', '8'): 'A', ('8', '9'): 'T'}\n",
      "0->1:A\n",
      "1->2:T\n",
      "2->3:A\n",
      "3->4:G\n",
      "4->5:A\n",
      "2->6:C\n",
      "0->7:G\n",
      "7->8:A\n",
      "8->9:T\n"
     ]
    }
   ],
   "source": [
    "strings = ['ATAGA', 'ATC', 'GAT']\n",
    "ans = Trie(strings)\n",
    "print(ans[0])\n",
    "print(ans[1])\n",
    "print(ans[2])\n",
    "for key, val in ans[2].items():\n",
    "    print('->'.join(key) + ':' + val)"
   ]
  },
  {
   "cell_type": "code",
   "execution_count": 69,
   "metadata": {},
   "outputs": [
    {
     "name": "stdout",
     "output_type": "stream",
     "text": [
      "0->1:A\n",
      "1->2:T\n",
      "2->3:C\n",
      "3->4:G\n",
      "0->5:G\n",
      "5->6:G\n",
      "6->7:G\n",
      "7->8:T\n"
     ]
    }
   ],
   "source": [
    "with open('rosalind.txt') as file:\n",
    "    inputs = file.read().split()\n",
    "\n",
    "ans = Trie(inputs)\n",
    "for key, val in ans[2].items():\n",
    "    print('->'.join(key) + ':' + val)"
   ]
  },
  {
   "cell_type": "markdown",
   "metadata": {},
   "source": [
    "# Task 7 BA9B"
   ]
  },
  {
   "cell_type": "code",
   "execution_count": 126,
   "metadata": {},
   "outputs": [],
   "source": [
    "def Trie_match(pattern, strings):\n",
    "    trie = Trie(strings)\n",
    "    dic = trie[0]\n",
    "    #print(dic)\n",
    "    adj = trie[1]\n",
    "    #print(adj)\n",
    "    ans = []\n",
    "    pattern = pattern + '$'\n",
    "    \n",
    "    for i in range(len(pattern)):\n",
    "        #print('i {}'.format(i))\n",
    "        string = pattern[i:]\n",
    "        #print('s {}'.format(string))\n",
    "        cur_node = '0'\n",
    "        \n",
    "        for s in string:\n",
    "            #print(s)\n",
    "            lis = []\n",
    "            if cur_node in adj:\n",
    "                lis = [dic[j] for j in adj[cur_node]]\n",
    "            #print(lis)\n",
    "            \n",
    "            if lis == []:\n",
    "                if cur_node!='0':\n",
    "                    ans.append(i)\n",
    "                    break\n",
    "                    \n",
    "            else:\n",
    "                if s not in lis:\n",
    "                    break\n",
    "                else:\n",
    "                    index = lis.index(s)\n",
    "                    #print(index)\n",
    "                    cur_node = adj[cur_node][index]\n",
    "                    #print(cur_node)\n",
    "            \n",
    "    return ans"
   ]
  },
  {
   "cell_type": "code",
   "execution_count": 129,
   "metadata": {},
   "outputs": [
    {
     "name": "stdout",
     "output_type": "stream",
     "text": [
      "78 113 120 135 143 225 250 332 392 399 414 451 458 501 513 569 588 600 612 635 642 666 679 694 717 724 741 752 764 778 826 833\n"
     ]
    }
   ],
   "source": [
    "s = 'AATCGGGTTCAATCGGGGT'\n",
    "with open('rosalind.txt') as file:\n",
    "    inputs = file.read().split()\n",
    "    pattern = inputs[0]\n",
    "    strings = inputs[1:]\n",
    "    \n",
    "ans = Trie_match(pattern, strings)\n",
    "print(*ans)"
   ]
  },
  {
   "cell_type": "code",
   "execution_count": null,
   "metadata": {},
   "outputs": [],
   "source": []
  }
 ],
 "metadata": {
  "kernelspec": {
   "display_name": "Python 3",
   "language": "python",
   "name": "python3"
  },
  "language_info": {
   "codemirror_mode": {
    "name": "ipython",
    "version": 3
   },
   "file_extension": ".py",
   "mimetype": "text/x-python",
   "name": "python",
   "nbconvert_exporter": "python",
   "pygments_lexer": "ipython3",
   "version": "3.7.6"
  }
 },
 "nbformat": 4,
 "nbformat_minor": 4
}
