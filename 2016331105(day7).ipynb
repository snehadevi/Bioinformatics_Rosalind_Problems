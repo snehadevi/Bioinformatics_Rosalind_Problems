{
 "cells": [
  {
   "cell_type": "markdown",
   "metadata": {},
   "source": [
    "# Task 1 BA9i"
   ]
  },
  {
   "cell_type": "code",
   "execution_count": 8,
   "metadata": {},
   "outputs": [],
   "source": [
    "def BWT(string):\n",
    "    lis = []\n",
    "    for i in range(len(string)):\n",
    "        string = string[-1] + string[:-1]\n",
    "        lis.append(string)\n",
    "    lis.sort()\n",
    "    ans = [i[-1] for i in lis]\n",
    "    return ans"
   ]
  },
  {
   "cell_type": "code",
   "execution_count": 11,
   "metadata": {},
   "outputs": [
    {
     "name": "stdout",
     "output_type": "stream",
     "text": [
      "ACTGGCT$TGCGGC\n"
     ]
    }
   ],
   "source": [
    "string = 'GCGTGCCTGGTCA$'\n",
    "ans = BWT(string)\n",
    "print(''.join(ans))"
   ]
  },
  {
   "cell_type": "code",
   "execution_count": 15,
   "metadata": {},
   "outputs": [
    {
     "name": "stdout",
     "output_type": "stream",
     "text": [
      "TGGTCATTTAGTTCAGCGTTCGGCCGTGCCCCCTCTCAAAAAACTAGATGGGTAGAGTAAGCCGCGAAGCACCCTGTCCTGGTCAGTGTAATGGGCCTTGTATCATGGTGCCTAATGCCGACCAGTTGTATAGGTAGGAAACAAGACCGGAACCATACAGCACTCCCGATGCTTACAGGGGGAGAAAATTCTTTTTAAACGCTTGTGCTCTCTCGATTCATCGACGGTGAATGCCCAGAGGTACGTCTGGGTCTGAACGACTCGGTTCCTCCAACCCCAAACCTGTTAAATCGGTGCAACGGTCTCAAACCGATTGCGCCCCAGAGGTCGTGCTTCTTGCACAGTTCCAGCGTGGTGTCCCCCCAGCGTTGAGCTGAGCTAGGACACTCTGCAGAATGGTCTGCAATTGTCTATTTCTAACTGTGGGTTGACAGTACCTCCAGTGTATCGATCTCGCACATAACTTCACGTTCACCACGTCTAAGTTCCCCACTCGGTAA$ACTGCATCGCATAAAATTGATTTTGACTCCGGTATTAACTCCGGAACACCATGTTAGCTTAGAATGCCCAGTTAAGCCAGACGAAAATTACGTTTACACGTCCCGTCTTCTGTACACAGGCATATGTGTTCAACCATGTAAGTCACCGGTTCGGAAATCCTTAATAAAGGGCTCGTGAACGAGGAAGTCTAGATCAGCAGATACGTCATGCGTTTCTGACTAGGATTCTTGTCTCGGACCAAGAAGGTCTGACCTGTTTCCGTACACAAGATTCGTTGAGTAGATGGATTTCAGGCGCGATACCC\n"
     ]
    }
   ],
   "source": [
    "with open('rosalind.txt') as file:\n",
    "    inputs = file.read().split()\n",
    "#print(inputs)\n",
    "ans = BWT(inputs[0])\n",
    "print(''.join(ans))"
   ]
  },
  {
   "cell_type": "markdown",
   "metadata": {},
   "source": [
    "# Task 2 BA9j"
   ]
  },
  {
   "cell_type": "code",
   "execution_count": 78,
   "metadata": {},
   "outputs": [],
   "source": [
    "def String_from_BWT(bwt):\n",
    "    bwt_lis = list(bwt)\n",
    "    sorted_bwt = bwt_lis.copy()\n",
    "    sorted_bwt.sort()\n",
    "    for i in range (len(bwt)-1):\n",
    "        sorted_bwt = [i+j for i,j in zip(bwt_lis, sorted_bwt)]\n",
    "        sorted_bwt.sort()\n",
    "    string = sorted_bwt[0][1:] + sorted_bwt[0][0]\n",
    "    return string"
   ]
  },
  {
   "cell_type": "code",
   "execution_count": 79,
   "metadata": {},
   "outputs": [
    {
     "data": {
      "text/plain": [
       "'TACATCACGT$'"
      ]
     },
     "execution_count": 79,
     "metadata": {},
     "output_type": "execute_result"
    }
   ],
   "source": [
    "bwt_string = 'TTCCTAACG$A'\n",
    "String_from_BWT(bwt_string)"
   ]
  },
  {
   "cell_type": "code",
   "execution_count": 82,
   "metadata": {},
   "outputs": [
    {
     "name": "stdout",
     "output_type": "stream",
     "text": [
      "CGTCGCGTCACCCCGCGGGCCTATGCGGTAGACACCATTTGTTGATATGCCTATCCAGGGTCGTAGATGCACGTCGGCCCTGCAGTCCCCTCCACCCTACACGAGTTTGCGGCGCTCTTAGGGCAACGTCCATGCGCACGTCGTTATTCTTGGCACTCGTCCCTAATAACTGACCATGCAGAAACGTAGCAATTCCCTAGTCACTACCACATAGTCCCGAAAGCATATACGCAAATGGGATGTGTCATAAATCTTGTAGACATGGCTCGCATATCGACAGTATCATACTGAGCACATCAAATGGTGCCGAATTATAAGAGCTACGGCTAGACTCGCTGGCGAGAATTAAAGGCAGTTCTATGAGTGGGCGGCCAGTGCTCCTGGTTCACAAGCCCCGTATGGTACGGTTCCGTTGTTCTCGGGAAAAGAGCCAATACCTGTGGAAGCCCCTATCTTGATCCTCAGTCACTTTGGATCGTAGCGTACATTGTACACAAAAGTAGCCTCGCTTTCCTAGTGAGGATAAGTAACTATTAACGCCGGTGCATTCCCTCCGAAGGACCGCTGACGAAACGAGAGATCTACAATCCGCTAGCAATAAAACAATTGATGTTCTGTCTCACGATCAAGAACTGAGGGGGGATTACAGCTCCTGAGCGGCGCCAAAGATCAGGCCTGGACGCGACGGGGAATACCTTTCCCCTCAGGAACTTACCAGCGCCTTCGAACATTAATCTCAACGTTTGTACGACAGTTGTACCCTTCCCAACGCTAAGCCGATCAGGGATTTGTTTTTGGATGTGGACCTGTGGTGCTATGGGTCATCGACTAATGAGTGAGGACCAGTGAAGTCGGAACTACTCGAGCGTCGACCGCGTTCTCAGGGTTGGCCGCCCACCG$\n"
     ]
    }
   ],
   "source": [
    "with open('rosalind.txt') as file:\n",
    "    inputs = file.read().split()\n",
    "bwt_string = inputs[0]\n",
    "#print(bwt_string)\n",
    "ans = String_from_BWT(bwt_string)\n",
    "print(ans)"
   ]
  },
  {
   "cell_type": "code",
   "execution_count": 119,
   "metadata": {},
   "outputs": [],
   "source": [
    "def better_string_from_bwt(bwt):\n",
    "    last_column = list(bwt)\n",
    "    first_column = last_column.copy()\n",
    "    first_column.sort()\n",
    "    \n",
    "    count = {key:0 for key in set(last_column)}\n",
    "    count2 = {key:0 for key in set(last_column)}\n",
    "    \n",
    "    last = []\n",
    "    first = []\n",
    "    string = []\n",
    "    \n",
    "    for j in last_column:\n",
    "        last.append(j + str(count[j]))\n",
    "        count[j] = count[j] + 1\n",
    "    \n",
    "    for j in first_column:\n",
    "        first.append(j + str(count2[j]))\n",
    "        count2[j] = count2[j] + 1\n",
    "    \n",
    "    char = '$0'\n",
    "    for i in range(len(last_column)):\n",
    "        index = last.index(char)\n",
    "        char = first[index]\n",
    "        string.append(char[0])\n",
    "    \n",
    "    return ''.join(string)"
   ]
  },
  {
   "cell_type": "code",
   "execution_count": 120,
   "metadata": {},
   "outputs": [
    {
     "data": {
      "text/plain": [
       "'TACATCACGT$'"
      ]
     },
     "execution_count": 120,
     "metadata": {},
     "output_type": "execute_result"
    }
   ],
   "source": [
    "bwt_string = 'TTCCTAACG$A'\n",
    "better_string_from_bwt(bwt_string)"
   ]
  },
  {
   "cell_type": "code",
   "execution_count": 121,
   "metadata": {},
   "outputs": [
    {
     "name": "stdout",
     "output_type": "stream",
     "text": [
      "GAATTTACCTATCCCCTTTGCGCCCAATGTGAAAGGAGACGCATGACTCTCGCCTGTTGAGCTTTGGGTACAAGCATGCCTACTGAAAGTATTAGGAAGCTGCGCCTCGGCTCAAGGGGGGTTTTTCGTCGTTGACCAGTGACACTCACAGCCCTGTTCGTTTTACGTCTCTGACAGCAATGTACCCCTGACCACCTGGTTACGAGACCGAGTACTACGCGGTATATGGAAGGGGAAGCCTATCACCGATTACGAATGTAAAAGTGCCGAGGCTTGACCTGCTGACGTGCTTGATGGATTTAGGTGGGGGTCCTTAATCTCCTAAATATGTATTAGGGGTGTTTCGTGCCTCACGTTTGTACGATATTGCAGAAACCGCAGATGCGGCAAAAGGCGCATGGCACAATGAGGCTATCTCCGTTGGGCAAGGACAGGCGAGTCCGTTTATTTTCCTGGATGGACGGTATACTCGGTGGGGAGAACATTGGCGTGTCCCCGACCGATGAGATCTTGGCCTTTGGCAGATTACAAGTGAAGGTATGTATCCCCAAGATGAACAGTTTAGAAGCGCACGCAGGATGATGCACACCCCAGGCTAGCAACATGGTCAGTAGGTCAGATACGCGCCATAGCGATTCCAGAGAAGCACTAGAGTGTTTACAAGCCAACTAATTCATGCCCATTAGTCAGTATGCCGGGTTCCTGCATCATGTTCCATATGTCGAGCTAAGCACGGGCAGCGAACAAAGTTTTGGCACTGTGGAGCGCACGGTTATGTATGGTCCCGATTGACATATCGTAAGGCCCTAGATGTAC$\n"
     ]
    }
   ],
   "source": [
    "with open('rosalind.txt') as file:\n",
    "    inputs = file.read().split()\n",
    "bwt_string = inputs[0]\n",
    "#print(bwt_string)\n",
    "ans = String_from_BWT(bwt_string)\n",
    "print(ans)"
   ]
  },
  {
   "cell_type": "markdown",
   "metadata": {},
   "source": [
    "# Task 3 BA9K"
   ]
  },
  {
   "cell_type": "code",
   "execution_count": 106,
   "metadata": {},
   "outputs": [],
   "source": [
    "def Last_to_First(bwt, i):\n",
    "    last_column = list(bwt)\n",
    "    first_column = last_column.copy()\n",
    "    first_column.sort()\n",
    "    \n",
    "    count = {key:0 for key in set(last_column)}\n",
    "    count2 = {key:0 for key in set(last_column)}\n",
    "    \n",
    "    last = []\n",
    "    first = []\n",
    "    \n",
    "    for j in last_column:\n",
    "        last.append(j + str(count[j]))\n",
    "        count[j] = count[j] + 1\n",
    "    \n",
    "    for j in first_column:\n",
    "        first.append(j + str(count2[j]))\n",
    "        count2[j] = count2[j] + 1\n",
    "    \n",
    "    char = last[i]\n",
    "    position = first.index(char)\n",
    "    return position"
   ]
  },
  {
   "cell_type": "code",
   "execution_count": 107,
   "metadata": {},
   "outputs": [
    {
     "name": "stdout",
     "output_type": "stream",
     "text": [
      "1\n"
     ]
    }
   ],
   "source": [
    "bwt = 'T$GACCA'\n",
    "i = 3\n",
    "ans = Last_to_First(bwt, i)\n",
    "print(ans)"
   ]
  },
  {
   "cell_type": "code",
   "execution_count": 108,
   "metadata": {},
   "outputs": [
    {
     "name": "stdout",
     "output_type": "stream",
     "text": [
      "600\n"
     ]
    }
   ],
   "source": [
    "with open('rosalind.txt') as file:\n",
    "    inputs = file.read().split()\n",
    "bwt = inputs[0]\n",
    "i = int(inputs[1])\n",
    "\n",
    "ans = Last_to_First(bwt, i)\n",
    "print(ans)"
   ]
  },
  {
   "cell_type": "code",
   "execution_count": null,
   "metadata": {},
   "outputs": [],
   "source": []
  }
 ],
 "metadata": {
  "kernelspec": {
   "display_name": "Python 3",
   "language": "python",
   "name": "python3"
  },
  "language_info": {
   "codemirror_mode": {
    "name": "ipython",
    "version": 3
   },
   "file_extension": ".py",
   "mimetype": "text/x-python",
   "name": "python",
   "nbconvert_exporter": "python",
   "pygments_lexer": "ipython3",
   "version": "3.7.6"
  }
 },
 "nbformat": 4,
 "nbformat_minor": 4
}
