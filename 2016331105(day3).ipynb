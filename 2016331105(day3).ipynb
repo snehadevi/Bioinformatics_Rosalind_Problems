{
 "cells": [
  {
   "cell_type": "markdown",
   "metadata": {},
   "source": [
    "# Task 1 BA1F"
   ]
  },
  {
   "cell_type": "code",
   "execution_count": 1,
   "metadata": {},
   "outputs": [],
   "source": [
    "def min_skew(s):\n",
    "    ans = []\n",
    "    lis = []\n",
    "    cur = 0\n",
    "    for char in s:\n",
    "        if (char=='C'):\n",
    "            cur -= 1\n",
    "            lis.append(cur)\n",
    "        elif (char == 'G'):\n",
    "            cur += 1\n",
    "            lis.append(cur)\n",
    "        else:\n",
    "            lis.append(cur)\n",
    "    mini = min(lis)\n",
    "    for i,val in enumerate(lis):\n",
    "        if(val==mini):\n",
    "            ans.append(i+1)   \n",
    "    return ans"
   ]
  },
  {
   "cell_type": "code",
   "execution_count": 2,
   "metadata": {},
   "outputs": [],
   "source": [
    "s = \"CCTATCGGTGGATTAGCATGTCCCTGTACGTTTCGCCGCGAACTAGTTCACACGGCTTGATGGCAAATGGTTTTTCCGGCGACCGTAATCGTCCACCGAG\"\n",
    "ans = min_skew(s)"
   ]
  },
  {
   "cell_type": "code",
   "execution_count": 3,
   "metadata": {},
   "outputs": [
    {
     "name": "stdout",
     "output_type": "stream",
     "text": [
      "53 97\n"
     ]
    }
   ],
   "source": [
    "print(*ans)"
   ]
  },
  {
   "cell_type": "markdown",
   "metadata": {},
   "source": [
    "# Task 2 BA1E"
   ]
  },
  {
   "cell_type": "code",
   "execution_count": 4,
   "metadata": {},
   "outputs": [],
   "source": [
    "def p_to_n(pt):\n",
    "    dic = {'A':0, 'C':1, 'G':2, 'T':3}\n",
    "    pt = pt[::-1]\n",
    "    val = 0\n",
    "    \n",
    "    for i, j in enumerate(pt):\n",
    "        val = val + ( dic[j] * (4**i) )\n",
    "    \n",
    "    return val"
   ]
  },
  {
   "cell_type": "code",
   "execution_count": 5,
   "metadata": {},
   "outputs": [],
   "source": [
    "from collections import defaultdict\n",
    "\n",
    "def most_freq_lis(seq, length):\n",
    "    hashmap = defaultdict(int)\n",
    "    for i in range(len(seq) - length):\n",
    "        cur = seq[i:i+length]\n",
    "        hashmap[cur] += 1\n",
    "    return hashmap"
   ]
  },
  {
   "cell_type": "code",
   "execution_count": 6,
   "metadata": {},
   "outputs": [],
   "source": [
    "def clump_finding(Genome, k, L, t):\n",
    "    clump = []\n",
    "    for i in range(len(Genome) - L):\n",
    "        cur = Genome[i:i+L]\n",
    "        #print(cur)\n",
    "        map_1 = most_freq_lis(cur, k)\n",
    "        #print(map_1)\n",
    "        for i,j in map_1.items():\n",
    "            if (j>=t):\n",
    "                clump.append(i)\n",
    "    ans = set(clump)\n",
    "    return ans\n",
    "             "
   ]
  },
  {
   "cell_type": "code",
   "execution_count": 7,
   "metadata": {},
   "outputs": [],
   "source": [
    "s = 'CGGACTCGACAGATGTGAAGAAATGTGAAGACTGAGTGAAGAGAAGAGGAAACACGACACGACATTGCGACATAATGTACGAATGTAATGTGCCTATGGC'\n",
    "ans = clump_finding(s, 5, 75, 4)"
   ]
  },
  {
   "cell_type": "code",
   "execution_count": 8,
   "metadata": {},
   "outputs": [
    {
     "name": "stdout",
     "output_type": "stream",
     "text": [
      "CGACA GAAGA AATGT\n"
     ]
    }
   ],
   "source": [
    "print(*ans)"
   ]
  },
  {
   "cell_type": "markdown",
   "metadata": {},
   "source": [
    "# Task 3 BA2B"
   ]
  },
  {
   "cell_type": "code",
   "execution_count": 9,
   "metadata": {},
   "outputs": [],
   "source": [
    "def hamming_distance(seq1, seq2):\n",
    "    lis = []\n",
    "    k = len(seq1)\n",
    "    for i in range(len(seq2)-k+1):\n",
    "        cur = seq2[i:k+i]\n",
    "        distance = 0\n",
    "        for j  in range(k):\n",
    "            if seq1[j] != cur[j]:\n",
    "                distance +=1\n",
    "        lis.append(distance)\n",
    "        #print(lis)\n",
    "    return min(lis)"
   ]
  },
  {
   "cell_type": "code",
   "execution_count": 10,
   "metadata": {},
   "outputs": [
    {
     "data": {
      "text/plain": [
       "0"
      ]
     },
     "execution_count": 10,
     "metadata": {},
     "output_type": "execute_result"
    }
   ],
   "source": [
    "hamming_distance('AAA', 'AAATTGACGCAT')"
   ]
  },
  {
   "cell_type": "code",
   "execution_count": 11,
   "metadata": {},
   "outputs": [],
   "source": [
    "import itertools\n",
    "def permute(k):\n",
    "    chars = ['A', 'C', 'G', 'T']\n",
    "    lis = [''.join(p) for p in itertools.product(chars, repeat=k)]\n",
    "    return lis\n",
    "    "
   ]
  },
  {
   "cell_type": "code",
   "execution_count": 12,
   "metadata": {},
   "outputs": [],
   "source": [
    "def med_string(k, *args):\n",
    "    lis = permute(k)\n",
    "    lis_2 = []\n",
    "    lis_3= []\n",
    "    ans = []\n",
    "    for i in lis:\n",
    "        val = 0\n",
    "        for j in args:\n",
    "            val += hamming_distance(i,j)\n",
    "        lis_2.append((i,val))\n",
    "        lis_3.append(val)\n",
    "    mini = min(lis_3)\n",
    "    #print(lis_2)\n",
    "    #print(mini)\n",
    "    for i,val in lis_2:\n",
    "        if(val==mini):\n",
    "            ans.append(i)\n",
    "    return ans"
   ]
  },
  {
   "cell_type": "code",
   "execution_count": 13,
   "metadata": {},
   "outputs": [
    {
     "name": "stdout",
     "output_type": "stream",
     "text": [
      "TCAGAT\n"
     ]
    }
   ],
   "source": [
    "ans = med_string(6,\n",
    " 'GTCAAGTCAGATCACATTCTGAGAACACGGCGACACGCCCAG',\n",
    "'ACACCCGGTTCAGCGGATCAGCTGCATACATCACCTTCAGAA',\n",
    "'TACGCTGAGTCTGGTGTCGTGAACACTGTTATCAGTTCAGAT',\n",
    "'TCAGAACTATCATCACTCGTACCTGATAAGCCCAATAGTGCG',\n",
    "'CCGTCTTGTTGCGAGGAGTCAGATGAACCAAAACTTTATGGG',\n",
    "'TCAACCATATAGTCAGACCTGAACTGCCCCGTTTGACTTGTA',\n",
    "'AATCAGTCGTTTCATCTCAGGGTGTCAGATAATAGCCTCTAT',\n",
    "'GAACTTTCAGATTATCGGTGACTGCAAATGTGTGAGTCCGTC',\n",
    "'AATACCCGATTCGGGGCGTGCTAAAGCAAATCAGACAAAGCT',\n",
    "'TCAGAGTAGCAGATAGTGACGTTCTATGTGACCGAACCTCTT')\n",
    "print(*ans)"
   ]
  },
  {
   "cell_type": "markdown",
   "metadata": {},
   "source": [
    "# Task 4 BA2C"
   ]
  },
  {
   "cell_type": "code",
   "execution_count": 75,
   "metadata": {},
   "outputs": [],
   "source": [
    "import numpy as np\n",
    "def profile_most_probable_kmer(s, k, mat):\n",
    "    dic = {}\n",
    "    lis_1 = []\n",
    "    ans = []\n",
    "    for i in range(len(s)-k+1):\n",
    "        cur_kmer = s[i:k+i]\n",
    "        #print(cur_kmer)\n",
    "        val = 1.0\n",
    "        for index,j in enumerate(cur_kmer):\n",
    "            #print(index,j)\n",
    "            if(j == 'A'):\n",
    "                #print(mat[0][index])\n",
    "                val *= mat[0][index]\n",
    "                #print(val)\n",
    "            elif(j == 'C'):\n",
    "                #print(mat[1][index])\n",
    "                val *= mat[1][index]\n",
    "                #print(val)\n",
    "            elif(j == 'G'):\n",
    "                #print(mat[2][index])\n",
    "                val *= mat[2][index]\n",
    "                #print(val)\n",
    "            elif(j == 'T'):\n",
    "                #print(mat[3][index])\n",
    "                val *= mat[3][index]\n",
    "                #print(val)\n",
    "        dic[cur_kmer]=val\n",
    "        lis_1.append(val)\n",
    "    #print(lis_1)\n",
    "    m = max(lis_1)\n",
    "    #print(m)\n",
    "    for i, val in dic.items():\n",
    "            if m == val:\n",
    "                ans.append(i)\n",
    "    return ans"
   ]
  },
  {
   "cell_type": "code",
   "execution_count": 76,
   "metadata": {},
   "outputs": [],
   "source": [
    "s = 'ATACCCCCGTATAGATATTACCCTGGCACTTCAAGGTTGCGTGACCCCAGTGTCCTCCTAGACCCGAAGATAGTTCTCGTGGCAAGCTACCTCCCGTTCTCCAAGGGGCCGACTGTAAAAGCGCACGAGTCCGACTGGCAGACTGACGCATCGCGCCCAACGTCCAGTGTGCGAACTCTAAAATTGATACGTCAGGGCGA'\n",
    "k = 8\n",
    "mat = np.array([[0.2, 0.2, 0.2, 0.2, 0.12, 0.24, 0.16, 0.24],\n",
    "[0.44, 0.36, 0.24, 0.12, 0.4, 0.28, 0.28, 0.2],\n",
    "[0.12, 0.32, 0.2, 0.36, 0.32, 0.24, 0.2, 0.32],\n",
    "[0.24, 0.12, 0.36, 0.32, 0.16, 0.24, 0.36, 0.24]])\n",
    "\n",
    "ans = profile_most_probable_kmer(s, k, mat)"
   ]
  },
  {
   "cell_type": "code",
   "execution_count": 77,
   "metadata": {},
   "outputs": [
    {
     "name": "stdout",
     "output_type": "stream",
     "text": [
      "CGCGCCCA\n"
     ]
    }
   ],
   "source": [
    "print(*ans)"
   ]
  },
  {
   "cell_type": "markdown",
   "metadata": {},
   "source": [
    "# Task 5 BA2D"
   ]
  },
  {
   "cell_type": "code",
   "execution_count": 78,
   "metadata": {},
   "outputs": [],
   "source": [
    "import numpy as np\n",
    "from collections import Counter\n",
    "def score(motif):\n",
    "    #l = list(args)\n",
    "    length = len(motif)\n",
    "    lis = [max(Counter(list(i)).values()) for i in zip(*motif)]\n",
    "    arr =  length - np.array(lis)\n",
    "    #print(arr)\n",
    "    return np.sum(arr)"
   ]
  },
  {
   "cell_type": "code",
   "execution_count": 79,
   "metadata": {},
   "outputs": [
    {
     "data": {
      "text/plain": [
       "5"
      ]
     },
     "execution_count": 79,
     "metadata": {},
     "output_type": "execute_result"
    }
   ],
   "source": [
    "score(['AAACGCGTA','ACTGACGTG'])"
   ]
  },
  {
   "cell_type": "code",
   "execution_count": 80,
   "metadata": {},
   "outputs": [],
   "source": [
    "import numpy as np\n",
    "from collections import Counter\n",
    "def profile_mat(motif):\n",
    "    #l = list(args)\n",
    "    length = len(motif)\n",
    "    lis = [Counter(list(i)) for i in zip(*motif)]\n",
    "    lis_A = [i.get('A',0.0) for i in lis]\n",
    "    lis_C = [i.get('C',0.0) for i in lis]\n",
    "    lis_G = [i.get('G',0.0) for i in lis]\n",
    "    lis_T = [i.get('T',0.) for i in lis]\n",
    "    fin_lis = [lis_A, lis_C, lis_G, lis_T]\n",
    "    arr = np.array(fin_lis)/length\n",
    "    \n",
    "    return arr"
   ]
  },
  {
   "cell_type": "code",
   "execution_count": 81,
   "metadata": {},
   "outputs": [
    {
     "data": {
      "text/plain": [
       "array([[1. , 0.5, 0.5, 0. , 0.5, 0. , 0. , 0. , 0.5],\n",
       "       [0. , 0.5, 0. , 0.5, 0. , 1. , 0. , 0. , 0. ],\n",
       "       [0. , 0. , 0. , 0.5, 0.5, 0. , 1. , 0. , 0.5],\n",
       "       [0. , 0. , 0.5, 0. , 0. , 0. , 0. , 1. , 0. ]])"
      ]
     },
     "execution_count": 81,
     "metadata": {},
     "output_type": "execute_result"
    }
   ],
   "source": [
    "profile_mat(['AAACGCGTA','ACTGACGTG'])"
   ]
  },
  {
   "cell_type": "code",
   "execution_count": 82,
   "metadata": {},
   "outputs": [],
   "source": [
    "def Greedy_Motif_Search(s, k, t):\n",
    "    best_motif = [i[0:k] for i in s]\n",
    "    string = s[0]\n",
    "    \n",
    "    for i in range(len(string)-k):\n",
    "        motifs = []\n",
    "        motifs.append(string[i:i+k])\n",
    "        for j in range(1,t):\n",
    "            #print(j)\n",
    "            profile = profile_mat(motifs)\n",
    "            #print(profile)\n",
    "            new_motif = profile_most_probable_kmer(s[j], k, profile)[0]\n",
    "            #print(new_motif)\n",
    "            motifs.append(new_motif)\n",
    "        if score(motifs) < score(best_motif):\n",
    "            best_motif = motifs\n",
    "    return best_motif\n",
    "    "
   ]
  },
  {
   "cell_type": "code",
   "execution_count": 83,
   "metadata": {},
   "outputs": [],
   "source": [
    "s =[ 'GGCGTTCAGGCA', 'AAGAATCAGTCA',\n",
    "'CAAGGAGTTCGC',\n",
    "'CACGTCAATCAC',\n",
    "'CAATAATATTCG']\n",
    "k = 3\n",
    "t = 5\n"
   ]
  },
  {
   "cell_type": "code",
   "execution_count": 84,
   "metadata": {},
   "outputs": [],
   "source": [
    "ans = Greedy_Motif_Search(s, k, t)"
   ]
  },
  {
   "cell_type": "code",
   "execution_count": 85,
   "metadata": {},
   "outputs": [
    {
     "name": "stdout",
     "output_type": "stream",
     "text": [
      "CAG CAG CAA CAA CAA\n"
     ]
    }
   ],
   "source": [
    "print(*ans)"
   ]
  },
  {
   "cell_type": "code",
   "execution_count": 86,
   "metadata": {},
   "outputs": [],
   "source": [
    "with open('rosalind.txt', 'r') as file:\n",
    "    inputs = file.read().split()\n",
    "    k = int(inputs[0])\n",
    "    t = int(inputs[1])\n",
    "    s = inputs[2:]"
   ]
  },
  {
   "cell_type": "code",
   "execution_count": 87,
   "metadata": {},
   "outputs": [],
   "source": [
    "ans = Greedy_Motif_Search(s, k, t)"
   ]
  },
  {
   "cell_type": "code",
   "execution_count": 88,
   "metadata": {},
   "outputs": [
    {
     "name": "stdout",
     "output_type": "stream",
     "text": [
      "CAG\n",
      "CAG\n",
      "CAA\n",
      "CAA\n",
      "CAA\n"
     ]
    }
   ],
   "source": [
    "for i in ans:\n",
    "    print(i)"
   ]
  },
  {
   "cell_type": "code",
   "execution_count": null,
   "metadata": {},
   "outputs": [],
   "source": []
  }
 ],
 "metadata": {
  "kernelspec": {
   "display_name": "Python 3",
   "language": "python",
   "name": "python3"
  },
  "language_info": {
   "codemirror_mode": {
    "name": "ipython",
    "version": 3
   },
   "file_extension": ".py",
   "mimetype": "text/x-python",
   "name": "python",
   "nbconvert_exporter": "python",
   "pygments_lexer": "ipython3",
   "version": "3.7.6"
  }
 },
 "nbformat": 4,
 "nbformat_minor": 4
}
