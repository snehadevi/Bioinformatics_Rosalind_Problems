{
 "cells": [
  {
   "cell_type": "markdown",
   "metadata": {},
   "source": [
    "# Task 1 BA1C"
   ]
  },
  {
   "cell_type": "code",
   "execution_count": 3,
   "metadata": {},
   "outputs": [],
   "source": [
    "def rev_complement(seq):\n",
    "    rev = {'A':'T', 'C':'G', 'T':'A', 'G':'C'}\n",
    "    seq = list(seq)\n",
    "    \n",
    "    for i, c in enumerate(seq):\n",
    "        seq[i] = rev[c]\n",
    "        \n",
    "    return ''.join(seq[::-1])"
   ]
  },
  {
   "cell_type": "code",
   "execution_count": 4,
   "metadata": {},
   "outputs": [
    {
     "data": {
      "text/plain": [
       "'ACCGGGTTTT'"
      ]
     },
     "execution_count": 4,
     "metadata": {},
     "output_type": "execute_result"
    }
   ],
   "source": [
    "rev_complement('AAAACCCGGT')"
   ]
  },
  {
   "cell_type": "code",
   "execution_count": 5,
   "metadata": {},
   "outputs": [],
   "source": [
    "inp = 'AAAACCCGGT'\n",
    "with open('rosalind.txt', 'w') as file:\n",
    "    file.write(rev_complement(inp))"
   ]
  },
  {
   "cell_type": "markdown",
   "metadata": {},
   "source": [
    "# Task 2 BA1G"
   ]
  },
  {
   "cell_type": "code",
   "execution_count": 11,
   "metadata": {},
   "outputs": [],
   "source": [
    "def hamming_distance(seq1, seq2):\n",
    "    distance = 0\n",
    "    for i in range(len(seq1)):\n",
    "        if seq1[i] != seq2[i]:\n",
    "            distance +=1\n",
    "    return distance"
   ]
  },
  {
   "cell_type": "code",
   "execution_count": 12,
   "metadata": {},
   "outputs": [
    {
     "data": {
      "text/plain": [
       "3"
      ]
     },
     "execution_count": 12,
     "metadata": {},
     "output_type": "execute_result"
    }
   ],
   "source": [
    "hamming_distance('GGGCCGTTGGT', 'GGACCGTTGAC')"
   ]
  },
  {
   "cell_type": "code",
   "execution_count": 13,
   "metadata": {},
   "outputs": [],
   "source": [
    "inp1 = 'CCAAACCTTTGACGACGTCGAGAAAAGTTACCTTTTACGTGAGTCATCGTATCGGCCTATGCGTCCCGGTGCTTTCATGGCACTGACTACTCCTTGGGTGCGACAGTGAGTCGCCTATTCGTGTTTTAGCGATCCATCGCTTATGGCGGAAGCTGATCCACGCGGTCCATATACTCAATGCCAAACAGATAGCTGGCCACCCAATCATGTCAAAGCCACCTTCAGCCTTTCAAGGATTCCCAGCTCGTGCAAAATCAACACAAAGCGATTACTTATAAAACATCGGATTTAGGTGATCGTTGACTCGCACAGCGGGCGGCACGAACGCACGCAACCCTAATACTATGCAATTCATTACGTTACTGGCCCCCGCAGAGCAGGTATTTGGACAGCCTTTAGTGAGCCGATCATAATTCGGGTGTGACCCACACGAGGTCGGACTAAGAGGCTGGAGATTGTTATGGAGAGTGTGTGTGGCCATGTGACTTTGTTAGACCCGGCCCAGGCTGTCAGCGGGACAGAAGAGTGTTCTTTAACTAGTTAGGGTGGAAAAGCACGGTTTTATAGGCTTCGGTCCGCAAGCGTGTACCAATGACGTTTATGAACAACCAGATACTTAATGTACCAATGGATACTCACATAATGCATTGGCAGCTTAGGGCTTATGGGTAAGCTGCCCCACGTAGTCAGCGGACTCACCTACTTGGGTTGCGAAAAGATCGAGAAGAACTTTTCACGAGCAGGCCCGCTGCTAATGGTTGGTTTGGAGACATGACCCAGGACGCCACACATCGAATGGTACCTATGGATGGACTCAGCTTGTTCCCGTATTCATTGATTTTCTGCGCAACCTGACGTCCAAATCCGTTCACGAATCGGCGAAACGGGAGAAGAAGACAAACGAGGTAACACGCCAATTTCATGGTGGTCAGGATGGAAGTCCTTCCCGGCTCTGGACATGCCCACCCGTAAGTCCCGGGTATACCTTAATGCACGTCATAGACCAGAACGGGCTTTTGATAAGCTGGAATTCCCCACCTAACACACCGCCCGAGCTGCATACTAGTATGCCTTCCGCGCCCCGACGTAAAGAGTGCGGGCGGCTTCGCACCTGTGGAGAGTCATGAGGTTAGCAGAGTTGCTGGTACTCTAATGTGTGGCGACGCTTCGGGTTAGGC'\n",
    "inp2 = 'CGCCCCAACGCACTGTCGTGGGACCATGCCTTTGATGGTCGGCGTTAATGAGCCTACCGACAGCTTTGGAGAATTTACCCAGTTCGATTCTGGGTTCCACGCGTCTATATCTGAGATATGTCTTGTCGGTCAGGTAGGCGCTAGTCTATGTTATCATTCCCCGCTGACCGGACATGAATATGTCCTAGAAGTATAAAAATCGTGTAAAAGGATGCCCGATATAGTATGCTTGGGGCTAAGCTAAAGTAGCTAGGGGTGAGGGCAGTGCCGAAAAAGAGCAACTACGATTATCCATCGTGGAAAAAAGTAATTAGCGAGCACTAACCATCCCTCGTTCGTTTCCTGAGGTACTAGATCAGGTTTGTACCTGACCAGTTGACCTGCACTCGTACCTCTAAGACCGTCCACCGTATATTAGAACCCCAAAAATGCCATGAGTAAGGTAATTACGTGATAGCAACAGGGCACAACTATCACTCCGCCATGTAGGTAGTCCTTGATATCGGGAGCACCACCGACGCTGCAATGTCTTGCTGGTCCAGATTAGGGACTCCTTTGTCCCCCTGGGAACAAAGCAGCTTACACTGCTCCGAACCAGGAGTTTATAAGGTGCTACACAATTGACGTTCTCGTTGGTTTAGACGCTCCAGCACACTGAAAAGGAGTTGTGCTATCCGGAAGTGGAGAGCTGGACTTTCTAGCATAACTACGCCTCGTCACCCTCTAGGCCGTTCTAACAATCTATGAAGTCGGTTTTGTACTGCATAAGTTTAGAATCCTACCCTCGGTGACGGCACCACTCCCTGCGTGCTAGCCACAAGAGCCTTTTATAGTATTACTGGGCATGGGGTCGGATGATGATTGATTAGGTTTAGGGATGAATACAGCACCGAGAGTCATAAAGTTTGGGTAATTAACTATGGAGTGCCAGCCAGATATCACTAGAGCCATTATTTTCGACTACGTGTGAACGGGACGCATAGTGCCAGATGATTATCATAACCATCTGGCTCCGCAAACCAGAAGTCTGTATAATTCGCGACCCCTATAGTGTTACAGTCTCCCACAACTAGGGCCGCTGCTCCAACATCCGACTAGCAATTCTATCATAGACCGATAATACCGCGGGAGACATGACTTTCGGGCGAAGGGGAGGTAAGTCAGTTCTGCAGCGACGC'\n",
    "with open('rosalind.txt', 'w') as file:\n",
    "    file.write(str(hamming_distance(inp1, inp2)))"
   ]
  },
  {
   "cell_type": "markdown",
   "metadata": {},
   "source": [
    "# Task 3 BA1H"
   ]
  },
  {
   "cell_type": "code",
   "execution_count": 20,
   "metadata": {},
   "outputs": [],
   "source": [
    "def pattern_match(pattern, seq, distance):\n",
    "    length = len(pattern)\n",
    "    \n",
    "    for i in range(len(seq) - length + 1):\n",
    "        if hamming_distance(seq[i:i+length], pattern) <= distance:\n",
    "            print(i, end=' ')\n",
    "    \n",
    "    print()"
   ]
  },
  {
   "cell_type": "code",
   "execution_count": 21,
   "metadata": {},
   "outputs": [
    {
     "name": "stdout",
     "output_type": "stream",
     "text": [
      "6 7 26 27 78 \n"
     ]
    }
   ],
   "source": [
    "pattern = 'ATTCTGGA'\n",
    "text = 'CGCCCGAATCCAGAACGCATTCCCATATTTCGGGACCACTGGCCTCCACGGTACGGACGTCAATCAAATGCCTAGCGGCTTGTGGTTTCTCCTACGCTCC'\n",
    "\n",
    "pattern_match(pattern, text, 3)"
   ]
  },
  {
   "cell_type": "code",
   "execution_count": 22,
   "metadata": {},
   "outputs": [
    {
     "name": "stdout",
     "output_type": "stream",
     "text": [
      "101 259 280 287 329 346 408 582 592 680 763 803 833 874 895 1031 1153 1163 1226 1242 1350 1366 1398 1405 1616 1686 1695 1749 1829 1894 2155 2246 2260 2295 2300 2357 2513 2580 2587 2837 2862 3089 3105 3117 3184 3195 3323 3371 3378 3541 3628 3638 3651 3658 3666 3862 3957 4089 4096 4155 4256 4300 4312 4472 4578 4592 4659 4696 4746 4757 4890 4897 4911 5008 5016 5056 5109 5202 5208 5307 5387 5475 5494 5501 5665 5676 5711 5858 5864 6004 6024 6063 6083 6125 6163 6259 6358 6400 6548 6580 6605 6635 6715 6747 6833 6841 6873 6937 6970 7058 7138 7175 7272 7284 7321 7330 7341 7382 7524 7731 7791 7909 7940 7965 7984 8088 8095 8197 8206 8243 8276 8344 8516 8529 8719 8770 8819 8843 8881 9057 9068 9177 9260 9267 9544 9712 10095 10152 10207 10223 10328 10360 10616 10632 10641 10681 10738 10823 10835 10889 10906 10999 11018 11235 11242 11264 11321 11336 11348 11365 11409 11572 11731 11791 11928 11951 12003 12044 12111 12122 12264 12468 12490 12559 12641 12654 12751 12789 12831 12891 12897 12977 13003 13127 13266 13284 13342 13358 13381 13388 13569 13630 13817 13846 13853 13907 14066 14084 14115 14203 14216 14223 14401 14466 14645 14681 14813 14859 14989 15142 15168 15239 15293 15430 15750 15797 16039 16114 16224 16330 16424 16443 16512 16524 16539 16585 16733 16740 16784 16858 16899 16990 16997 17017 17079 \n"
     ]
    }
   ],
   "source": [
    "with open('rosalind.txt', 'r') as file:\n",
    "    inputs = file.read().split()\n",
    "    pattern = inputs[0]\n",
    "    text = inputs[1]\n",
    "    dis = int(inputs[2])\n",
    "    \n",
    "pattern_match(pattern, text, dis)"
   ]
  },
  {
   "cell_type": "markdown",
   "metadata": {},
   "source": [
    "# Task 4 BA1i"
   ]
  },
  {
   "cell_type": "code",
   "execution_count": 16,
   "metadata": {},
   "outputs": [],
   "source": [
    "import itertools\n",
    "import string\n",
    "def permute(k):\n",
    "    chars = ['A', 'C', 'G', 'T']\n",
    "    lis = [''.join(p) for p in itertools.product(chars, repeat=k)]\n",
    "    return lis"
   ]
  },
  {
   "cell_type": "code",
   "execution_count": 17,
   "metadata": {},
   "outputs": [],
   "source": [
    "def most_freq(seq, length, distance):\n",
    "    patterns = permute(length)\n",
    "    freq = dict.fromkeys(patterns, 0)\n",
    "    max_freq = 0\n",
    "    \n",
    "    for i in range(len(seq) - length + 1):\n",
    "        for pattern in patterns:\n",
    "            if hamming_distance(pattern, seq[i:i+length]) <= distance:\n",
    "                freq[pattern] += 1\n",
    "                max_freq = max(freq[pattern], max_freq)\n",
    "                \n",
    "    for pattern in patterns:\n",
    "        if freq[pattern] == max_freq:\n",
    "            print(pattern, end=' ')\n",
    "            \n",
    "    print()"
   ]
  },
  {
   "cell_type": "code",
   "execution_count": 18,
   "metadata": {},
   "outputs": [
    {
     "name": "stdout",
     "output_type": "stream",
     "text": [
      "ATGC ATGT GATG \n"
     ]
    }
   ],
   "source": [
    "most_freq('ACGTTGCATGTCGCATGATGCATGAGAGCT', 4, 1)"
   ]
  },
  {
   "cell_type": "code",
   "execution_count": 19,
   "metadata": {},
   "outputs": [
    {
     "name": "stdout",
     "output_type": "stream",
     "text": [
      "TGTAGAG \n"
     ]
    }
   ],
   "source": [
    "most_freq('GTATCGAGAGTAAAGTCGCCGTGTGGATTACAGGCATACAGGCATACAGGCAGTATCGAGCCAGCTTGGTATCGAGTACAGGCAAGTAAAGTCGCCAGCTTGCCAGCTTGGTATCGAGCCAGCTTGGTATCGAGAGTAAAGTCGCCGTGTGGATGTATCGAGTACAGGCATACAGGCAAGTAAAGTCGGTATCGAGCCAGCTTGCCAGCTTGAGTAAAGTCGCCGTGTGGATCCGTGTGGATAGTAAAGTCGTACAGGCACCAGCTTGCCAGCTTGAGTAAAGTCGTACAGGCATACAGGCACCAGCTTGCCAGCTTGCCGTGTGGATCCAGCTTGCCAGCTTGTACAGGCATACAGGCAAGTAAAGTCGCCGTGTGGATAGTAAAGTCGTACAGGCACCGTGTGGATGTATCGAGAGTAAAGTCGCCAGCTTGCCAGCTTGCCGTGTGGATAGTAAAGTCGCCAGCTTGTACAGGCACCAGCTTGCCGTGTGGATAGTAAAGTCGCCAGCTTGCCAGCTTGTACAGGCACCAGCTTGTACAGGCATACAGGCAAGTAAAGTCGCCGTGTGGATAGTAAAGTCGGTATCGAGTACAGGCAGTATCGAGCCGTGTGGATCCGTGTGGATCCAGCTTGGTATCGAGCCGTGTGGATCCGTGTGGATCCGTGTGGATCCAGCTTGCCGTGTGGATCCAGCTTGCCGTGTGGATCCAGCTTGGTATCGAGGTATCGAGAGTAAAGTCGCCAGCTTGAGTAAAGTCGTACAGGCAGTATCGAGCCGTGTGGATCCAGCTTGCCAGCTTGAGTAAAGTCGAGTAAAGTCGTACAGGCACCAGCTTGCCAGCTTGAGTAAAGTCGAGTAAAGTCGAGTAAAGTCGCCGTGTGGATTACAGGCAAGTAAAGTCGCCGTGTGGATAGTAAAGTCGAGTAAAGTCGAGTAAAGTCG',7,2)"
   ]
  },
  {
   "cell_type": "markdown",
   "metadata": {},
   "source": [
    "# Task 5 BA1j"
   ]
  },
  {
   "cell_type": "code",
   "execution_count": 39,
   "metadata": {},
   "outputs": [],
   "source": [
    "def most_freq_complements(seq, length, distance):\n",
    "    patterns = permute(length)\n",
    "    freq = dict.fromkeys(patterns, 0)\n",
    "    max_freq = 0\n",
    "    \n",
    "    for i in range(len(seq) - length + 1):\n",
    "        for pattern in patterns:\n",
    "            if hamming_distance(pattern, seq[i:i+length]) <= distance:\n",
    "                freq[pattern] += 1\n",
    "                \n",
    "            if hamming_distance(rev_complement(pattern), seq[i:i+length]) <= distance:\n",
    "                freq[pattern] +=1\n",
    "                \n",
    "            max_freq = max(freq[pattern], max_freq)\n",
    "    \n",
    "    for pattern in patterns:\n",
    "        if freq[pattern] == max_freq:\n",
    "            print(pattern, end=' ')\n",
    "            \n",
    "    print()"
   ]
  },
  {
   "cell_type": "code",
   "execution_count": 40,
   "metadata": {},
   "outputs": [
    {
     "name": "stdout",
     "output_type": "stream",
     "text": [
      "ACAT ATGT \n"
     ]
    }
   ],
   "source": [
    "most_freq_complements('ACGTTGCATGTCGCATGATGCATGAGAGCT', 4, 1)"
   ]
  },
  {
   "cell_type": "code",
   "execution_count": 36,
   "metadata": {},
   "outputs": [
    {
     "name": "stdout",
     "output_type": "stream",
     "text": [
      "CTGCAG \n"
     ]
    }
   ],
   "source": [
    "most_freq_complements('CAGAACTGGAGGGCAGTACAGGGCAGTACATTGACTACCAGAACTGGCGGAGCCGCTAGGGCAGTACATTGACTACCAGAACTGGAGGGCAGTACCATCAATGCCATCAATGCAGGGCAGTACAGGGCAGTACAGGGCAGTACATTGACTACAGGGCAGTACAGGGCAGTACATTGACTACCGGAGCCGCTATTGACTACATTGACTACATTGACTACCAGAACTGGCGGAGCCGCTAGGGCAGTACATTGACTACAGGGCAGTACAGGGCAGTACAGGGCAGTACCGGAGCCGCTCAGAACTGGCGGAGCCGCTCGGAGCCGCTCATCAATGCCAGAACTGGCATCAATGCATTGACTACCATCAATGCCATCAATGCAGGGCAGTACCATCAATGCCAGAACTGGCATCAATGCATTGACTACCGGAGCCGCTAGGGCAGTACCAGAACTGGCATCAATGCAGGGCAGTACCAGAACTGGCATCAATGCCATCAATGCAGGGCAGTACAGGGCAGTACATTGACTACAGGGCAGTACATTGACTACATTGACTACCAGAACTGGCATCAATGCAGGGCAGTACAGGGCAGTACCGGAGCCGCTCATCAATGCCGGAGCCGCTATTGACTACAGGGCAGTACCATCAATGCCGGAGCCGCTAGGGCAGTACAGGGCAGTACATTGACTACAGGGCAGTACCAGAACTGGCATCAATGCAGGGCAGTACCAGAACTGGCAGAACTGGCATCAATGCCAGAACTGGATTGACTACATTGACTACCGGAGCCGCTATTGACTACCATCAATGCATTGACTACATTGACTACCAGAACTGGCATCAATGCCGGAGCCGCTAGGGCAGTACCAGAACTGGATTGACTACATTGACTACCGGAGCCGCTATTGACTAC', 6,3)"
   ]
  },
  {
   "cell_type": "markdown",
   "metadata": {},
   "source": [
    "# Task 6 BA1L"
   ]
  },
  {
   "cell_type": "code",
   "execution_count": 23,
   "metadata": {},
   "outputs": [],
   "source": [
    "def pattern_to_number(pattern):\n",
    "    to_digits = {'A':0, 'C':1, 'G':2, 'T':3}\n",
    "    quaternary = ''\n",
    "    \n",
    "    for c in pattern:\n",
    "        quaternary += f'{to_digits[c]:02b}'\n",
    "    \n",
    "    return int(quaternary, 2)"
   ]
  },
  {
   "cell_type": "code",
   "execution_count": 24,
   "metadata": {},
   "outputs": [],
   "source": [
    "def p_to_n(pt):\n",
    "    dic = {'A':0, 'C':1, 'G':2, 'T':3}\n",
    "    pt = pt[::-1]\n",
    "    val = 0\n",
    "    \n",
    "    for i, j in enumerate(pt):\n",
    "        val = val + ( dic[j] * (4**i) )\n",
    "    \n",
    "    return val"
   ]
  },
  {
   "cell_type": "code",
   "execution_count": 25,
   "metadata": {},
   "outputs": [
    {
     "data": {
      "text/plain": [
       "11"
      ]
     },
     "execution_count": 25,
     "metadata": {},
     "output_type": "execute_result"
    }
   ],
   "source": [
    "pattern_to_number('AGT')"
   ]
  },
  {
   "cell_type": "code",
   "execution_count": 26,
   "metadata": {},
   "outputs": [
    {
     "data": {
      "text/plain": [
       "12301137236012"
      ]
     },
     "execution_count": 26,
     "metadata": {},
     "output_type": "execute_result"
    }
   ],
   "source": [
    "pattern_to_number('GTATAAACCATGGGCCAAAGTA')"
   ]
  },
  {
   "cell_type": "markdown",
   "metadata": {},
   "source": [
    "# Task 7 BA1M"
   ]
  },
  {
   "cell_type": "code",
   "execution_count": 28,
   "metadata": {},
   "outputs": [],
   "source": [
    "def number_to_pattern(number, length):\n",
    "    to_letters = {0:'A', 1:'C', 2:'G', 3:'T'}\n",
    "    binary = f'{number:b}'.zfill(length*2)\n",
    "    pattern = ''\n",
    "    \n",
    "    for i in range(length):\n",
    "        pattern += to_letters[int(binary[2*i:2*i+2], 2)]\n",
    "        \n",
    "    return pattern"
   ]
  },
  {
   "cell_type": "code",
   "execution_count": 29,
   "metadata": {},
   "outputs": [
    {
     "data": {
      "text/plain": [
       "'AGTC'"
      ]
     },
     "execution_count": 29,
     "metadata": {},
     "output_type": "execute_result"
    }
   ],
   "source": [
    "number_to_pattern(45, 4)"
   ]
  },
  {
   "cell_type": "code",
   "execution_count": 32,
   "metadata": {},
   "outputs": [
    {
     "name": "stdout",
     "output_type": "stream",
     "text": [
      "AACCCCTGG\n"
     ]
    }
   ],
   "source": [
    "print(number_to_pattern(5498, 9))"
   ]
  },
  {
   "cell_type": "code",
   "execution_count": null,
   "metadata": {},
   "outputs": [],
   "source": []
  },
  {
   "cell_type": "code",
   "execution_count": null,
   "metadata": {},
   "outputs": [],
   "source": []
  }
 ],
 "metadata": {
  "kernelspec": {
   "display_name": "Python 3",
   "language": "python",
   "name": "python3"
  },
  "language_info": {
   "codemirror_mode": {
    "name": "ipython",
    "version": 3
   },
   "file_extension": ".py",
   "mimetype": "text/x-python",
   "name": "python",
   "nbconvert_exporter": "python",
   "pygments_lexer": "ipython3",
   "version": "3.7.6"
  }
 },
 "nbformat": 4,
 "nbformat_minor": 4
}
