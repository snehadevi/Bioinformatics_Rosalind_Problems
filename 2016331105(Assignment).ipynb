{
 "cells": [
  {
   "cell_type": "markdown",
   "metadata": {},
   "source": [
    "# BA1A"
   ]
  },
  {
   "cell_type": "code",
   "execution_count": 1,
   "metadata": {},
   "outputs": [],
   "source": [
    "def n_occurance(seq, pattern):\n",
    "    ans = 0\n",
    "    for i in range(len(seq) - len(pattern)+1):\n",
    "        if seq[i:i+len(pattern)] == pattern:\n",
    "            ans += 1\n",
    "    return ans"
   ]
  },
  {
   "cell_type": "code",
   "execution_count": 2,
   "metadata": {},
   "outputs": [
    {
     "data": {
      "text/plain": [
       "2"
      ]
     },
     "execution_count": 2,
     "metadata": {},
     "output_type": "execute_result"
    }
   ],
   "source": [
    "n_occurance('GCGCG','GCG')"
   ]
  },
  {
   "cell_type": "markdown",
   "metadata": {},
   "source": [
    "# BA1B"
   ]
  },
  {
   "cell_type": "code",
   "execution_count": 3,
   "metadata": {},
   "outputs": [],
   "source": [
    "from collections import defaultdict\n",
    "\n",
    "def most_freq(seq, length):\n",
    "    hashmap = defaultdict(int)\n",
    "    ans = []\n",
    "    for i in range(len(seq) - length+1):\n",
    "        cur = seq[i:i+length]\n",
    "        hashmap[cur] += 1\n",
    "    #return hashmap\n",
    "    maximum = max(hashmap.values())\n",
    "    for key, val in hashmap.items():\n",
    "        \n",
    "        if val == maximum:\n",
    "            ans.append(key)\n",
    "    return ans"
   ]
  },
  {
   "cell_type": "code",
   "execution_count": 4,
   "metadata": {},
   "outputs": [
    {
     "name": "stdout",
     "output_type": "stream",
     "text": [
      "GCAT CATG\n"
     ]
    }
   ],
   "source": [
    "seq = 'ACGTTGCATGTCGCATGATGCATGAGAGCT'\n",
    "print(*most_freq(seq, 4))"
   ]
  },
  {
   "cell_type": "markdown",
   "metadata": {},
   "source": [
    "# BA1C"
   ]
  },
  {
   "cell_type": "code",
   "execution_count": 5,
   "metadata": {},
   "outputs": [],
   "source": [
    "def rev_complement(seq):\n",
    "    rev = {'A':'T', 'C':'G', 'T':'A', 'G':'C'}\n",
    "    seq = list(seq)\n",
    "    \n",
    "    for i, c in enumerate(seq):\n",
    "        seq[i] = rev[c]\n",
    "        \n",
    "    return ''.join(seq[::-1])"
   ]
  },
  {
   "cell_type": "code",
   "execution_count": 6,
   "metadata": {},
   "outputs": [
    {
     "data": {
      "text/plain": [
       "'ACCGGGTTTT'"
      ]
     },
     "execution_count": 6,
     "metadata": {},
     "output_type": "execute_result"
    }
   ],
   "source": [
    "rev_complement('AAAACCCGGT')"
   ]
  },
  {
   "cell_type": "markdown",
   "metadata": {},
   "source": [
    "# BA1D"
   ]
  },
  {
   "cell_type": "code",
   "execution_count": 16,
   "metadata": {},
   "outputs": [],
   "source": [
    "def find_all_occurance(pattern, string):\n",
    "    ans = []\n",
    "    k = len(pattern)\n",
    "    lis = [string[i:k+i] for i in range(len(string)-k+1)]\n",
    "    for i,j in enumerate(lis):\n",
    "        if j == pattern:\n",
    "            ans.append(i)\n",
    "    return ans"
   ]
  },
  {
   "cell_type": "code",
   "execution_count": 18,
   "metadata": {},
   "outputs": [
    {
     "name": "stdout",
     "output_type": "stream",
     "text": [
      "1 3 9\n"
     ]
    }
   ],
   "source": [
    "pattern = 'ATAT'\n",
    "string = 'GATATATGCATATACTT'\n",
    "ans = find_all_occurance(pattern, string)\n",
    "print(*ans)"
   ]
  },
  {
   "cell_type": "code",
   "execution_count": 19,
   "metadata": {},
   "outputs": [
    {
     "name": "stdout",
     "output_type": "stream",
     "text": [
      "106 142 149 178 250 283 455 525 550 587 661 668 692 719 745 762 769 776 783 816 891 906 941 978 1029 1044 1051 1092 1117 1149 1182 1189 1214 1221 1236 1278 1324 1351 1421 1428 1512 1527 1560 1567 1574 1609 1693 1700 1707 1741 1756 1763 1810 1833 1861 1982 1989 2006 2044 2068 2075 2082 2168 2231 2380 2448 2501 2521 2539 2642 2707 2738 2757 2792 2799 2885 2892 2943 2950 2957 3168 3279 3291 3334 3350 3365 3402 3460 3613 3666 3700 3728 3749 3758 3771 3908 3991 4011 4018 4056 4063 4120 4152 4196 4203 4234 4241 4257 4264 4326 4333 4506 4569 4670 4691 4706 4743 4819 4826 4842 4886 4915 4966 4996 5003 5010 5022 5092 5137 5161 5186 5201 5294 5321 5337 5352 5370 5499 5515 5558 5714 5736 5835 5863 5928 5998 6005 6103 6119 6126 6133 6207 6214 6221 6306 6313 6329 6336 6343 6358 6365 6398 6405 6431 6451 6458 6528 6544 6571 6598 6605 6612 6628 6635 6674 6691 6791 6842 6858 6964 7029 7072 7101 7149 7166 7200 7210 7238 7245 7375 7441 7448 7465 7500 7518 7535 7593 7622 7680 7687 7694 7718 7742 7775 7808 7815 7862 7962 7969 7984 8107 8172 8349 8356 8382 8389 8428 8435 8468 8683 8690 8723 8753 8760 8779 8795 8802 8809 8816 8869 8943 8972 8995 9002 9038 9069 9094 9133 9144 9151 9166 9173 9180 9196 9203 9241 9336 9418 9433 9449 9497 9515\n"
     ]
    }
   ],
   "source": [
    "with open('rosalind.txt') as file:\n",
    "    inputs = file.read().split()\n",
    "    pattern = inputs[0]\n",
    "    string = inputs[1]\n",
    "ans = find_all_occurance(pattern, string)\n",
    "print(*ans)"
   ]
  },
  {
   "cell_type": "markdown",
   "metadata": {},
   "source": [
    "# BA1E"
   ]
  },
  {
   "cell_type": "code",
   "execution_count": 20,
   "metadata": {},
   "outputs": [],
   "source": [
    "def p_to_n(pt):\n",
    "    dic = {'A':0, 'C':1, 'G':2, 'T':3}\n",
    "    pt = pt[::-1]\n",
    "    val = 0\n",
    "    \n",
    "    for i, j in enumerate(pt):\n",
    "        val = val + ( dic[j] * (4**i) )\n",
    "    \n",
    "    return val"
   ]
  },
  {
   "cell_type": "code",
   "execution_count": 21,
   "metadata": {},
   "outputs": [],
   "source": [
    "from collections import defaultdict\n",
    "\n",
    "def most_freq_lis(seq, length):\n",
    "    hashmap = defaultdict(int)\n",
    "    for i in range(len(seq) - length):\n",
    "        cur = seq[i:i+length]\n",
    "        hashmap[cur] += 1\n",
    "    return hashmap"
   ]
  },
  {
   "cell_type": "code",
   "execution_count": 22,
   "metadata": {},
   "outputs": [],
   "source": [
    "def clump_finding(Genome, k, L, t):\n",
    "    clump = []\n",
    "    for i in range(len(Genome) - L):\n",
    "        cur = Genome[i:i+L]\n",
    "        #print(cur)\n",
    "        map_1 = most_freq_lis(cur, k)\n",
    "        #print(map_1)\n",
    "        for i,j in map_1.items():\n",
    "            if (j>=t):\n",
    "                clump.append(i)\n",
    "    ans = set(clump)\n",
    "    return ans\n",
    "             "
   ]
  },
  {
   "cell_type": "code",
   "execution_count": 23,
   "metadata": {},
   "outputs": [
    {
     "name": "stdout",
     "output_type": "stream",
     "text": [
      "AATGT CGACA GAAGA\n"
     ]
    }
   ],
   "source": [
    "s = 'CGGACTCGACAGATGTGAAGAAATGTGAAGACTGAGTGAAGAGAAGAGGAAACACGACACGACATTGCGACATAATGTACGAATGTAATGTGCCTATGGC'\n",
    "ans = clump_finding(s, 5, 75, 4)\n",
    "print(*ans)"
   ]
  },
  {
   "cell_type": "markdown",
   "metadata": {},
   "source": [
    "# BA1F"
   ]
  },
  {
   "cell_type": "code",
   "execution_count": 24,
   "metadata": {},
   "outputs": [],
   "source": [
    "def min_skew(s):\n",
    "    ans = []\n",
    "    lis = []\n",
    "    cur = 0\n",
    "    for char in s:\n",
    "        if (char=='C'):\n",
    "            cur -= 1\n",
    "            lis.append(cur)\n",
    "        elif (char == 'G'):\n",
    "            cur += 1\n",
    "            lis.append(cur)\n",
    "        else:\n",
    "            lis.append(cur)\n",
    "    mini = min(lis)\n",
    "    for i,val in enumerate(lis):\n",
    "        if(val==mini):\n",
    "            ans.append(i+1)   \n",
    "    return ans"
   ]
  },
  {
   "cell_type": "code",
   "execution_count": 25,
   "metadata": {},
   "outputs": [
    {
     "name": "stdout",
     "output_type": "stream",
     "text": [
      "53 97\n"
     ]
    }
   ],
   "source": [
    "s = \"CCTATCGGTGGATTAGCATGTCCCTGTACGTTTCGCCGCGAACTAGTTCACACGGCTTGATGGCAAATGGTTTTTCCGGCGACCGTAATCGTCCACCGAG\"\n",
    "ans = min_skew(s)\n",
    "print(*ans)"
   ]
  },
  {
   "cell_type": "markdown",
   "metadata": {},
   "source": [
    "# BA1G"
   ]
  },
  {
   "cell_type": "code",
   "execution_count": 26,
   "metadata": {},
   "outputs": [],
   "source": [
    "def hamming_distance(seq1, seq2):\n",
    "    distance = 0\n",
    "    for i in range(len(seq1)):\n",
    "        if seq1[i] != seq2[i]:\n",
    "            distance +=1\n",
    "    return distance"
   ]
  },
  {
   "cell_type": "code",
   "execution_count": 27,
   "metadata": {},
   "outputs": [
    {
     "data": {
      "text/plain": [
       "3"
      ]
     },
     "execution_count": 27,
     "metadata": {},
     "output_type": "execute_result"
    }
   ],
   "source": [
    "hamming_distance('GGGCCGTTGGT', 'GGACCGTTGAC')"
   ]
  },
  {
   "cell_type": "markdown",
   "metadata": {},
   "source": [
    "# BA1H"
   ]
  },
  {
   "cell_type": "code",
   "execution_count": 28,
   "metadata": {},
   "outputs": [],
   "source": [
    "def pattern_match(pattern, seq, distance):\n",
    "    length = len(pattern)\n",
    "    \n",
    "    for i in range(len(seq) - length + 1):\n",
    "        if hamming_distance(seq[i:i+length], pattern) <= distance:\n",
    "            print(i, end=' ')\n",
    "    \n",
    "    print()"
   ]
  },
  {
   "cell_type": "code",
   "execution_count": 29,
   "metadata": {},
   "outputs": [
    {
     "name": "stdout",
     "output_type": "stream",
     "text": [
      "6 7 26 27 78 \n"
     ]
    }
   ],
   "source": [
    "pattern = 'ATTCTGGA'\n",
    "text = 'CGCCCGAATCCAGAACGCATTCCCATATTTCGGGACCACTGGCCTCCACGGTACGGACGTCAATCAAATGCCTAGCGGCTTGTGGTTTCTCCTACGCTCC'\n",
    "\n",
    "pattern_match(pattern, text, 3)"
   ]
  },
  {
   "cell_type": "markdown",
   "metadata": {},
   "source": [
    "# BA1i"
   ]
  },
  {
   "cell_type": "code",
   "execution_count": 30,
   "metadata": {},
   "outputs": [],
   "source": [
    "import itertools\n",
    "import string\n",
    "def permute(k):\n",
    "    chars = ['A', 'C', 'G', 'T']\n",
    "    lis = [''.join(p) for p in itertools.product(chars, repeat=k)]\n",
    "    return lis"
   ]
  },
  {
   "cell_type": "code",
   "execution_count": 31,
   "metadata": {},
   "outputs": [],
   "source": [
    "def most_freq(seq, length, distance):\n",
    "    patterns = permute(length)\n",
    "    freq = dict.fromkeys(patterns, 0)\n",
    "    max_freq = 0\n",
    "    \n",
    "    for i in range(len(seq) - length + 1):\n",
    "        for pattern in patterns:\n",
    "            if hamming_distance(pattern, seq[i:i+length]) <= distance:\n",
    "                freq[pattern] += 1\n",
    "                max_freq = max(freq[pattern], max_freq)\n",
    "                \n",
    "    for pattern in patterns:\n",
    "        if freq[pattern] == max_freq:\n",
    "            print(pattern, end=' ')\n",
    "            \n",
    "    print()"
   ]
  },
  {
   "cell_type": "code",
   "execution_count": 32,
   "metadata": {},
   "outputs": [
    {
     "name": "stdout",
     "output_type": "stream",
     "text": [
      "ATGC ATGT GATG \n"
     ]
    }
   ],
   "source": [
    "most_freq('ACGTTGCATGTCGCATGATGCATGAGAGCT', 4, 1)"
   ]
  },
  {
   "cell_type": "markdown",
   "metadata": {},
   "source": [
    "# BA1j"
   ]
  },
  {
   "cell_type": "code",
   "execution_count": 33,
   "metadata": {},
   "outputs": [],
   "source": [
    "def most_freq_complements(seq, length, distance):\n",
    "    patterns = permute(length)\n",
    "    freq = dict.fromkeys(patterns, 0)\n",
    "    max_freq = 0\n",
    "    \n",
    "    for i in range(len(seq) - length + 1):\n",
    "        for pattern in patterns:\n",
    "            if hamming_distance(pattern, seq[i:i+length]) <= distance:\n",
    "                freq[pattern] += 1\n",
    "                \n",
    "            if hamming_distance(rev_complement(pattern), seq[i:i+length]) <= distance:\n",
    "                freq[pattern] +=1\n",
    "                \n",
    "            max_freq = max(freq[pattern], max_freq)\n",
    "    \n",
    "    for pattern in patterns:\n",
    "        if freq[pattern] == max_freq:\n",
    "            print(pattern, end=' ')\n",
    "            \n",
    "    print()"
   ]
  },
  {
   "cell_type": "code",
   "execution_count": 34,
   "metadata": {},
   "outputs": [
    {
     "name": "stdout",
     "output_type": "stream",
     "text": [
      "ACAT ATGT \n"
     ]
    }
   ],
   "source": [
    "most_freq_complements('ACGTTGCATGTCGCATGATGCATGAGAGCT', 4, 1)"
   ]
  },
  {
   "cell_type": "markdown",
   "metadata": {},
   "source": [
    "# BA1K"
   ]
  },
  {
   "cell_type": "code",
   "execution_count": 35,
   "metadata": {},
   "outputs": [],
   "source": [
    "import itertools\n",
    "import string\n",
    "def permute(k):\n",
    "    chars = ['A', 'C', 'G', 'T']\n",
    "    lis = [''.join(p) for p in itertools.product(chars, repeat=k)]\n",
    "    return lis"
   ]
  },
  {
   "cell_type": "code",
   "execution_count": 36,
   "metadata": {},
   "outputs": [],
   "source": [
    "from collections import defaultdict\n",
    "def n_patterns(seq, length):\n",
    "    patterns = permute(length)\n",
    "    lis = [seq[i:i+length] for i in range(len(seq)-length+1)]\n",
    "    lis2 = [lis.count(p) for p in patterns]\n",
    "    return lis2"
   ]
  },
  {
   "cell_type": "code",
   "execution_count": 37,
   "metadata": {},
   "outputs": [
    {
     "name": "stdout",
     "output_type": "stream",
     "text": [
      "[2, 1, 0, 0, 0, 0, 2, 2, 1, 2, 1, 0, 0, 1, 1, 0]\n"
     ]
    }
   ],
   "source": [
    "seq = 'ACGCGGCTCTGAAA'\n",
    "ans = n_patterns(seq, 2)\n",
    "print(ans)"
   ]
  },
  {
   "cell_type": "markdown",
   "metadata": {},
   "source": [
    "# BA1L"
   ]
  },
  {
   "cell_type": "code",
   "execution_count": 38,
   "metadata": {},
   "outputs": [],
   "source": [
    "def pattern_to_number(pattern):\n",
    "    to_digits = {'A':0, 'C':1, 'G':2, 'T':3}\n",
    "    quaternary = ''\n",
    "    \n",
    "    for c in pattern:\n",
    "        quaternary += f'{to_digits[c]:02b}'\n",
    "    \n",
    "    return int(quaternary, 2)"
   ]
  },
  {
   "cell_type": "code",
   "execution_count": 39,
   "metadata": {},
   "outputs": [],
   "source": [
    "def p_to_n(pt):\n",
    "    dic = {'A':0, 'C':1, 'G':2, 'T':3}\n",
    "    pt = pt[::-1]\n",
    "    val = 0\n",
    "    \n",
    "    for i, j in enumerate(pt):\n",
    "        val = val + ( dic[j] * (4**i) )\n",
    "    \n",
    "    return val"
   ]
  },
  {
   "cell_type": "code",
   "execution_count": 40,
   "metadata": {},
   "outputs": [
    {
     "data": {
      "text/plain": [
       "11"
      ]
     },
     "execution_count": 40,
     "metadata": {},
     "output_type": "execute_result"
    }
   ],
   "source": [
    "pattern_to_number('AGT')"
   ]
  },
  {
   "cell_type": "markdown",
   "metadata": {},
   "source": [
    "# BA1M"
   ]
  },
  {
   "cell_type": "code",
   "execution_count": 41,
   "metadata": {},
   "outputs": [],
   "source": [
    "def number_to_pattern(number, length):\n",
    "    to_letters = {0:'A', 1:'C', 2:'G', 3:'T'}\n",
    "    binary = f'{number:b}'.zfill(length*2)\n",
    "    pattern = ''\n",
    "    \n",
    "    for i in range(length):\n",
    "        pattern += to_letters[int(binary[2*i:2*i+2], 2)]\n",
    "        \n",
    "    return pattern"
   ]
  },
  {
   "cell_type": "code",
   "execution_count": 42,
   "metadata": {},
   "outputs": [
    {
     "data": {
      "text/plain": [
       "'AGTC'"
      ]
     },
     "execution_count": 42,
     "metadata": {},
     "output_type": "execute_result"
    }
   ],
   "source": [
    "number_to_pattern(45, 4)"
   ]
  },
  {
   "cell_type": "markdown",
   "metadata": {},
   "source": [
    "# BA1N"
   ]
  },
  {
   "cell_type": "code",
   "execution_count": 50,
   "metadata": {},
   "outputs": [],
   "source": [
    "import itertools\n",
    "import string\n",
    "def permute(k):\n",
    "    chars = ['A', 'C', 'G', 'T']\n",
    "    lis = [''.join(p) for p in itertools.product(chars, repeat=k)]\n",
    "    return lis"
   ]
  },
  {
   "cell_type": "code",
   "execution_count": 114,
   "metadata": {},
   "outputs": [],
   "source": [
    "def hamming_distance(seq1, seq2):\n",
    "    distance = 0\n",
    "    for i in range(len(seq1)):\n",
    "        if seq1[i] != seq2[i]:\n",
    "            distance +=1\n",
    "    return distance"
   ]
  },
  {
   "cell_type": "code",
   "execution_count": 111,
   "metadata": {},
   "outputs": [],
   "source": [
    "def d_neighbour(string, d):\n",
    "    k = len(string)\n",
    "    patterns = permute(k)\n",
    "    lis = []\n",
    "    for p in patterns:\n",
    "        if hamming_distance(string, p) <= d:\n",
    "            lis.append(p)\n",
    "    \n",
    "    return lis"
   ]
  },
  {
   "cell_type": "code",
   "execution_count": 77,
   "metadata": {},
   "outputs": [
    {
     "name": "stdout",
     "output_type": "stream",
     "text": [
      "AAG ACA ACC ACG ACT AGG ATG CCG GCG TCG\n"
     ]
    }
   ],
   "source": [
    "string = 'ACG'\n",
    "d = 1\n",
    "ans = d_neighbour(string, d)\n",
    "print(*ans)"
   ]
  },
  {
   "cell_type": "markdown",
   "metadata": {},
   "source": [
    "# BA2A"
   ]
  },
  {
   "cell_type": "code",
   "execution_count": 121,
   "metadata": {},
   "outputs": [],
   "source": [
    "def Hamming_Distance(seq1, seq2):\n",
    "    lis = []\n",
    "    k = len(seq1)\n",
    "    for i in range(len(seq2)-k+1):\n",
    "        cur = seq2[i:k+i]\n",
    "        distance = 0\n",
    "        for j  in range(k):\n",
    "            if seq1[j] != cur[j]:\n",
    "                distance +=1\n",
    "        lis.append(distance)\n",
    "        #print(lis)\n",
    "    return min(lis)"
   ]
  },
  {
   "cell_type": "code",
   "execution_count": 122,
   "metadata": {},
   "outputs": [],
   "source": [
    "def motif_enumerate(dna, k, d):\n",
    "    ans = []\n",
    "    for i in dna:\n",
    "        lis = [i[j:j+k] for j in range(len(i)-k+1)]\n",
    "        for l in lis:\n",
    "            neighbours = d_neighbour(l, d)\n",
    "            for neighbour in neighbours:\n",
    "                if all( Hamming_Distance(neighbour,string) <=d for string in dna):\n",
    "                    ans.append(neighbour)\n",
    "                    \n",
    "    return set(ans)\n"
   ]
  },
  {
   "cell_type": "code",
   "execution_count": 126,
   "metadata": {},
   "outputs": [
    {
     "data": {
      "text/plain": [
       "{'ATA', 'ATT', 'GTT', 'TTT'}"
      ]
     },
     "execution_count": 126,
     "metadata": {},
     "output_type": "execute_result"
    }
   ],
   "source": [
    "dna = ['ATTTGGC',\n",
    "'TGCCTTA',\n",
    "'CGGTATC',\n",
    "'GAAAATT']\n",
    "k = 3\n",
    "d = 1\n",
    "motif_enumeration(dna, k, d)"
   ]
  },
  {
   "cell_type": "code",
   "execution_count": 130,
   "metadata": {},
   "outputs": [
    {
     "name": "stdout",
     "output_type": "stream",
     "text": [
      "CCGGC CCGTC CGCTG AGACA AACCC AGCTG ACGTC TAGCT AACTG GACAA ATAGT ATCCG AAAGA ATGGC TGTAG TCTTG ACCAT GACAT CAGTC TACTG TTGCA GGACA CAACA ACGGT AACAT ACTAG GCTTG ACTTG TACGA CCGAA GGTAA AAACG GTGTA ATAGA GGTCA AACCT ACTCC AACTA AACGA TGGAG TGGCA AACAG ACCTA GATAA GACAG GATTG ATTCA GCGTT CAAAT CAGAG CAATG CAACG CTAAC GGGCA CAGGG AGTGA CCTAC AAAAC ATATG GATCT GGATT TAAAG GTATG GTAAC GCGCA GCTGA CGGAG ACTGA TGAAT CAACC ATCGA CTTTG TCGAC GGCAC TGGAT TAGAG ATTCG GCATA TTTGC TTCCG CGAAC CTCAA AGTGC GCACA AGATG ACTTA TCGCC CATGT ACTTC CTAGA GTCGC AAGTC GTTGT GTTTA AAGAC AACAA CTGAT CATTG ATGCC ACGTT GCCGC AGGCG TACGT CGAGT AGACC ATGTA GGGTG AGGTA CCTAA TGTAA CCAAC CCAGA ATCAT AGGGG AGCCA TCCAG TAGTT TTGTG ACAAC ACGGC CATCC TTGGC TGTAC CGAAG TCAAG TGGTG TTGAG GCTTA TGTGG AACGC TACAT CGGAT GAGCA CATCG GAAGA AGCAT TCATC ATACC CACGT TGGAC TAACT CGGTC GTGCA GAGTT ATACT GCCAC TGACA CCAGG GTGAT CTTAG TGAAA ACGTA GAAAT TTGTA GACTT TAACG GCCGT AATGT CAATA ACGGG GAGTC TGGTA AGTAC AGGGT TTAAA GTCAC TGAGC AATCA GGGAT AACGG ACGGA CCTGC CTACA TTAGC TAAAT CTCGT TGGAA TAACA GTCAT TGCGC GGAGA GGTAT ACTCT TGATG TATGG GGCTA GCCTG TGACC ATTTG GGCAA TTCAT GGTAC CAACT GCTTT GTCAG ATCCA ACCAC GGAAA ACCAG ATGCA GGGAG CTTAA TAATA CGACG AGAGT ATGAA TGCAA CCGAT AAATG CCCTT GCCGG ACCTT TGCCA AAGCA GTTCA ATCGT CATTA GAACG CAAAA GCATT GTCGA GTTAA TCAAC GTAAA ATGGA TTCAG CCATC CTTGT GCGGT CAGTA CTAGC AACGT CATAG GGATA TGATC TCGTA ACGCA ACCAA ATTGG ATCAG CACTT AGGTG ATCTG TGCTT CCTTT CAAGT GTCAA CACTG AGCCT GCATC TCATT GCAGT GAAAC CCGCA CCCAG CCGTA AGCCG GCCCT AATCG TAGTG GAAAA GGCTG TATGA GATTC CGAAA TACAG GTATA GGTGG AGTAT CTCGG TGCAC CAAAC TCAGT ATATC TCCAC TGGCG TGCCG AGTGG TACGC TGAAC GAGAT GAGGG GAAAG CATAC ATTGC TGATA AAGGT GCAAC CATCA CCTGT GAACA ACACC ATGGG TACCA TAGAC AGATC CCTTA TATTG CGACA TTATG TGTAT GGCTT GGTGA CTGTG CTGCT ATAGC CCAAG AGTAA CAGCC CGGTA GGCCG CAGTG ATTGT TTGGA ATAAG CACGA CCTCA AGAAA AGTTA GTTTG CCGCC GACAC CTTGA CGGCT AACCG CATTT ATGTC TGCGG GCTTC AAACC GGAAC CGGCA CACCT ACATG CGTAG ATAAC TTGAA ACAGT GGATG CGATT CTGAA TCAAA GTCCT ACTCG GATAT AATAT GTGGT ACGTG CGTAA GTGCC GGAGG AAATT GTTGG AGATT GTCCA AACTC ACATC GTCTT TCACG GATGT CTCTT CGCTT CTGGA GGACT AAATA TTGTC GATCA AGTCG TCCAA TATAA AATGC GAGGA TTTAG TTCAC TAGCG AGACT ATTAG CATAA GTGAA TGAGT TATGC GCTGG AGCGT GGTCC GGAAT AAACA GCGGA CAGCA AACAC ACATA GCCAT CATGA GATTA CGAGG TGTGC CATGG CGTCA TAGCC TCACC GACTA TAGGT ACTTT TGACT AGCTC GCCTT GACGT CCTGA AACCA GTACA CTGCC TAAGC TCCGT CGCAG CGGAA GACTC ACAGC CACAT CTGTA AGTTG AATTG CAAGC AGCTT GAACC ACTGG GCAAT AGGCT ACCTG CGGTG GTGGG TGAAG ATCAA CCGTG GGTAG GCACT AATAA TTCGG GAATA ACAAA AAACT AAAAA AACTT GGTGT CGTGT GGGGA AAAGG GATGA GCTCG GCTAA CGAGA AGCAA TTAGG GAGTA AGAAC GTGCG ACATT TAGAA CCATG GAAGT GTATC GAGGT GAACT CTAAA CGGGA GTGGC TCCGG AAGTG TCGAG TCTTA CATCT ATGAG GGTGC TCTAG TGTTG TTAAC CGTTA TAAAC GAATC TTACA CGCAT TTTGA CTTCA ATAAA AGTCC GCGAA CGGCC AATAC ATGAT CGAGC GGAGT CACCA TTGAC GCACC TCGGC CACTC AGTCA ACACT GAATT CAGAT GTAAT GATTT TCCGC CGTGA GTTAC GTAAG GTTGA TATAG TAAGG ACCCA CTGGT\n"
     ]
    }
   ],
   "source": [
    "with open('rosalind.txt') as file:\n",
    "    inputs = file.read().split()\n",
    "    k = int(inputs[0])\n",
    "    d = int(inputs[1])\n",
    "    dna = inputs[2:]\n",
    "ans = motif_enumeration(dna, k, d)\n",
    "print(*ans)"
   ]
  },
  {
   "cell_type": "markdown",
   "metadata": {},
   "source": [
    "# BA2B"
   ]
  },
  {
   "cell_type": "code",
   "execution_count": 66,
   "metadata": {},
   "outputs": [],
   "source": [
    "def Hamming_Distance(seq1, seq2):\n",
    "    lis = []\n",
    "    k = len(seq1)\n",
    "    for i in range(len(seq2)-k+1):\n",
    "        cur = seq2[i:k+i]\n",
    "        distance = 0\n",
    "        for j  in range(k):\n",
    "            if seq1[j] != cur[j]:\n",
    "                distance +=1\n",
    "        lis.append(distance)\n",
    "        #print(lis)\n",
    "    return min(lis)"
   ]
  },
  {
   "cell_type": "code",
   "execution_count": 67,
   "metadata": {},
   "outputs": [],
   "source": [
    "import itertools\n",
    "def permute(k):\n",
    "    chars = ['A', 'C', 'G', 'T']\n",
    "    lis = [''.join(p) for p in itertools.product(chars, repeat=k)]\n",
    "    return lis\n",
    "    "
   ]
  },
  {
   "cell_type": "code",
   "execution_count": 68,
   "metadata": {},
   "outputs": [],
   "source": [
    "def med_string(k, *args):\n",
    "    lis = permute(k)\n",
    "    lis_2 = []\n",
    "    lis_3= []\n",
    "    ans = []\n",
    "    for i in lis:\n",
    "        val = 0\n",
    "        for j in args:\n",
    "            val += Hamming_Distance(i,j)\n",
    "        lis_2.append((i,val))\n",
    "        lis_3.append(val)\n",
    "    mini = min(lis_3)\n",
    "    #print(lis_2)\n",
    "    #print(mini)\n",
    "    for i,val in lis_2:\n",
    "        if(val==mini):\n",
    "            ans.append(i)\n",
    "    return ans"
   ]
  },
  {
   "cell_type": "code",
   "execution_count": 69,
   "metadata": {},
   "outputs": [
    {
     "name": "stdout",
     "output_type": "stream",
     "text": [
      "ACACGC\n"
     ]
    }
   ],
   "source": [
    "ans = med_string(6,\n",
    "'GCATGTTACACAACACGCACACCACAAGTTAGTGGGTTGCAT',\n",
    "'ATCGCTATACGCCAACGGGTTGCATATTAACGGCCGGAAGGC',\n",
    "'GGAGGTCAGAGAAGCTGTGAACCTACACGCGCCTAGTGTCCT',\n",
    "'TCTCAGAACCTCAGACGCGGACGTTATCCCACCTGTCTGATC',\n",
    "'CCTCGAACTTTGACCCGGAAACGCGGCTCGTTATCCGTCACT',\n",
    "'GCGCACCACTGACTAAACAGCCAATAAGCTGCCTCGAGACGC',\n",
    "'AAACGCGGGACGGGAAATTACCAAGCCTTGTAGCGCTGCGAG',\n",
    "'AAGCTGAGCGTGTTGCTTTCAACCGCATGTACACGCGAGAAC',\n",
    "'TCAATTCAGCAACGGAGAGGGCGTACTGTCCCGTTAAAACGC',\n",
    "'AGGACCCAGTCCACACGCCAGTGCAGACAACAACATAGGGTT')\n",
    "print(*ans)"
   ]
  },
  {
   "cell_type": "markdown",
   "metadata": {},
   "source": [
    "# BA2C"
   ]
  },
  {
   "cell_type": "code",
   "execution_count": 159,
   "metadata": {},
   "outputs": [],
   "source": [
    "import numpy as np\n",
    "def profile_most_probable_kmer(s, k, mat):\n",
    "    dic = {}\n",
    "    lis_1 = []\n",
    "    ans = []\n",
    "    for i in range(len(s)-k+1):\n",
    "        cur_kmer = s[i:k+i]\n",
    "        #print(cur_kmer)\n",
    "        val = 1.0\n",
    "        for index,j in enumerate(cur_kmer):\n",
    "            #print(index,j)\n",
    "            if(j == 'A'):\n",
    "                #print(mat[0][index])\n",
    "                val *= mat[0][index]\n",
    "                #print(val)\n",
    "            elif(j == 'C'):\n",
    "                #print(mat[1][index])\n",
    "                val *= mat[1][index]\n",
    "                #print(val)\n",
    "            elif(j == 'G'):\n",
    "                #print(mat[2][index])\n",
    "                val *= mat[2][index]\n",
    "                #print(val)\n",
    "            elif(j == 'T'):\n",
    "                #print(mat[3][index])\n",
    "                val *= mat[3][index]\n",
    "                #print(val)\n",
    "        dic[cur_kmer]=val\n",
    "        lis_1.append(val)\n",
    "    #print(lis_1)\n",
    "    m = max(lis_1)\n",
    "    #print(m)\n",
    "    for i, val in dic.items():\n",
    "            if m == val:\n",
    "                ans.append(i)\n",
    "    return ans"
   ]
  },
  {
   "cell_type": "code",
   "execution_count": 160,
   "metadata": {},
   "outputs": [
    {
     "name": "stdout",
     "output_type": "stream",
     "text": [
      "CGCGCCCA\n"
     ]
    }
   ],
   "source": [
    "s = 'ATACCCCCGTATAGATATTACCCTGGCACTTCAAGGTTGCGTGACCCCAGTGTCCTCCTAGACCCGAAGATAGTTCTCGTGGCAAGCTACCTCCCGTTCTCCAAGGGGCCGACTGTAAAAGCGCACGAGTCCGACTGGCAGACTGACGCATCGCGCCCAACGTCCAGTGTGCGAACTCTAAAATTGATACGTCAGGGCGA'\n",
    "k = 8\n",
    "mat = np.array([[0.2, 0.2, 0.2, 0.2, 0.12, 0.24, 0.16, 0.24],\n",
    "[0.44, 0.36, 0.24, 0.12, 0.4, 0.28, 0.28, 0.2],\n",
    "[0.12, 0.32, 0.2, 0.36, 0.32, 0.24, 0.2, 0.32],\n",
    "[0.24, 0.12, 0.36, 0.32, 0.16, 0.24, 0.36, 0.24]])\n",
    "\n",
    "ans = profile_most_probable_kmer(s, k, mat)\n",
    "print(*ans)"
   ]
  },
  {
   "cell_type": "markdown",
   "metadata": {},
   "source": [
    "# BA2D"
   ]
  },
  {
   "cell_type": "code",
   "execution_count": 168,
   "metadata": {},
   "outputs": [],
   "source": [
    "import numpy as np\n",
    "from collections import Counter\n",
    "def score(motif):\n",
    "    #l = list(args)\n",
    "    length = len(motif)\n",
    "    lis = [max(Counter(list(i)).values()) for i in zip(*motif)]\n",
    "    arr =  length - np.array(lis)\n",
    "    #print(arr)\n",
    "    return np.sum(arr)"
   ]
  },
  {
   "cell_type": "code",
   "execution_count": 169,
   "metadata": {},
   "outputs": [],
   "source": [
    "import numpy as np\n",
    "from collections import Counter\n",
    "def profile_mat(motif):\n",
    "    #l = list(args)\n",
    "    length = len(motif)\n",
    "    lis = [Counter(list(i)) for i in zip(*motif)]\n",
    "    lis_A = [i.get('A',0.0) for i in lis]\n",
    "    lis_C = [i.get('C',0.0) for i in lis]\n",
    "    lis_G = [i.get('G',0.0) for i in lis]\n",
    "    lis_T = [i.get('T',0.) for i in lis]\n",
    "    fin_lis = [lis_A, lis_C, lis_G, lis_T]\n",
    "    arr = np.array(fin_lis)/length\n",
    "    \n",
    "    return arr"
   ]
  },
  {
   "cell_type": "code",
   "execution_count": 170,
   "metadata": {},
   "outputs": [],
   "source": [
    "def Greedy_Motif_Search(s, k, t):\n",
    "    best_motif = [i[0:k] for i in s]\n",
    "    string = s[0]\n",
    "    \n",
    "    for i in range(len(string)-k):\n",
    "        motifs = []\n",
    "        motifs.append(string[i:i+k])\n",
    "        for j in range(1,t):\n",
    "            #print(j)\n",
    "            profile = profile_mat(motifs)\n",
    "            #print(profile)\n",
    "            new_motif = profile_most_probable_kmer(s[j], k, profile)[0]\n",
    "            #print(new_motif)\n",
    "            motifs.append(new_motif)\n",
    "        if score(motifs) < score(best_motif):\n",
    "            best_motif = motifs\n",
    "    return best_motif\n",
    "    "
   ]
  },
  {
   "cell_type": "code",
   "execution_count": 171,
   "metadata": {},
   "outputs": [],
   "source": [
    "s =[ 'GGCGTTCAGGCA', 'AAGAATCAGTCA',\n",
    "'CAAGGAGTTCGC',\n",
    "'CACGTCAATCAC',\n",
    "'CAATAATATTCG']\n",
    "k = 3\n",
    "t = 5\n",
    "ans = Greedy_Motif_Search(s, k, t)"
   ]
  },
  {
   "cell_type": "code",
   "execution_count": 172,
   "metadata": {},
   "outputs": [
    {
     "name": "stdout",
     "output_type": "stream",
     "text": [
      "CAG CAG CAA CAA CAA\n"
     ]
    }
   ],
   "source": [
    "print(*ans)"
   ]
  },
  {
   "cell_type": "markdown",
   "metadata": {},
   "source": [
    "# BA2E"
   ]
  },
  {
   "cell_type": "code",
   "execution_count": 178,
   "metadata": {},
   "outputs": [],
   "source": [
    "import numpy as np\n",
    "from collections import Counter\n",
    "def score(motif):\n",
    "    #l = list(args)\n",
    "    length = len(motif)\n",
    "    lis = [max(Counter(list(i)).values()) for i in zip(*motif)]\n",
    "    arr =  length - np.array(lis)\n",
    "    #print(arr)\n",
    "    return np.sum(arr)"
   ]
  },
  {
   "cell_type": "code",
   "execution_count": 179,
   "metadata": {},
   "outputs": [],
   "source": [
    "import numpy as np\n",
    "from collections import Counter\n",
    "def Profile(motif):\n",
    "    #l = list(args)\n",
    "    length = len(motif)\n",
    "    lis = [Counter(list(i)) for i in zip(*motif)]\n",
    "    lis_A = [i['A']+1 for i in lis]\n",
    "    lis_C = [i['C']+1 for i in lis]\n",
    "    lis_G = [i['G']+1 for i in lis]\n",
    "    lis_T = [i['T']+1 for i in lis]\n",
    "    fin_lis = [lis_A, lis_C, lis_G, lis_T]\n",
    "    arr = np.array(fin_lis)/(4+length)\n",
    "    \n",
    "    return arr"
   ]
  },
  {
   "cell_type": "code",
   "execution_count": 180,
   "metadata": {},
   "outputs": [
    {
     "data": {
      "text/plain": [
       "array([[0.5       , 0.33333333, 0.33333333, 0.16666667, 0.33333333,\n",
       "        0.16666667, 0.16666667, 0.16666667, 0.33333333],\n",
       "       [0.16666667, 0.33333333, 0.16666667, 0.33333333, 0.16666667,\n",
       "        0.5       , 0.16666667, 0.16666667, 0.16666667],\n",
       "       [0.16666667, 0.16666667, 0.16666667, 0.33333333, 0.33333333,\n",
       "        0.16666667, 0.5       , 0.16666667, 0.33333333],\n",
       "       [0.16666667, 0.16666667, 0.33333333, 0.16666667, 0.16666667,\n",
       "        0.16666667, 0.16666667, 0.5       , 0.16666667]])"
      ]
     },
     "execution_count": 180,
     "metadata": {},
     "output_type": "execute_result"
    }
   ],
   "source": [
    "Profile(['AAACGCGTA','ACTGACGTG'])"
   ]
  },
  {
   "cell_type": "code",
   "execution_count": 181,
   "metadata": {},
   "outputs": [],
   "source": [
    "def Greedy_Motif_Search_pseudocount(s, k, t):\n",
    "    best_motif = [i[0:k] for i in s]\n",
    "    string = s[0]\n",
    "    \n",
    "    for i in range(len(string)-k):\n",
    "        motifs = []\n",
    "        motifs.append(string[i:i+k])\n",
    "        for j in range(1,t):\n",
    "            #print(j)\n",
    "            profile = Profile(motifs)\n",
    "            #print(profile)\n",
    "            new_motif = profile_most_probable_kmer(s[j], k, profile)[0]\n",
    "            #print(new_motif)\n",
    "            motifs.append(new_motif)\n",
    "        if score(motifs) < score(best_motif):\n",
    "            best_motif = motifs\n",
    "    return best_motif\n",
    "    "
   ]
  },
  {
   "cell_type": "code",
   "execution_count": 185,
   "metadata": {},
   "outputs": [],
   "source": [
    "with open('rosalind.txt') as file:\n",
    "    inputs = file.read().split()\n",
    "k = int(inputs[0])\n",
    "t = int(inputs[1])\n",
    "s = inputs[2:]\n",
    "ans = Greedy_Motif_Search_pseudocount(s, k, t)"
   ]
  },
  {
   "cell_type": "code",
   "execution_count": 186,
   "metadata": {},
   "outputs": [
    {
     "name": "stdout",
     "output_type": "stream",
     "text": [
      "CTATCGGTCGCA\n",
      "TTATCGGTCGCA\n",
      "CTATCAGACGCA\n",
      "ATATCCGCCACA\n",
      "TTATCAGTCACA\n",
      "ATATCTGACTCA\n",
      "CTATCAGGCACA\n",
      "TTATCCGGCGCA\n",
      "TTATCGGTCACA\n",
      "CTATCGGCCCCA\n",
      "TTATCCGGCACA\n",
      "GTATCTGGCACA\n",
      "CTATCCGCCGCA\n",
      "CTATCCGTCTCA\n",
      "CTATCGGACGCA\n",
      "ATATCCGACGCA\n",
      "CTATCTGCCGCA\n",
      "ATATCAGCCCCA\n",
      "ATATCCGCCCCA\n",
      "ATATCCGCCGCA\n",
      "ATATCAGGCGCA\n",
      "ATATCGGACACA\n",
      "CTATCTGTCGCA\n",
      "TTATCCGTCGCA\n",
      "TTATCTGTCACA\n"
     ]
    }
   ],
   "source": [
    "for i in ans:\n",
    "    print(i)"
   ]
  },
  {
   "cell_type": "markdown",
   "metadata": {},
   "source": [
    "# BA2F"
   ]
  },
  {
   "cell_type": "code",
   "execution_count": 16,
   "metadata": {},
   "outputs": [],
   "source": [
    "import numpy as np\n",
    "from collections import Counter\n",
    "def profile(motif):\n",
    "    #l = list(args)\n",
    "    length = len(motif)\n",
    "    lis = [Counter(list(i)) for i in zip(*motif)]\n",
    "    lis_A = [i['A']+1 for i in lis]\n",
    "    lis_C = [i['C']+1 for i in lis]\n",
    "    lis_G = [i['G']+1 for i in lis]\n",
    "    lis_T = [i['T']+1 for i in lis]\n",
    "    fin_lis = [lis_A, lis_C, lis_G, lis_T]\n",
    "    arr = np.array(fin_lis)/(4+length)\n",
    "    \n",
    "    return arr"
   ]
  },
  {
   "cell_type": "code",
   "execution_count": 17,
   "metadata": {},
   "outputs": [],
   "source": [
    "import numpy as np\n",
    "from collections import Counter\n",
    "def score(motif):\n",
    "    #l = list(args)\n",
    "    length = len(motif)\n",
    "    lis = [max(Counter(i).values()) for i in zip(*motif)]\n",
    "    arr =  length - np.array(lis)\n",
    "    #print(arr)\n",
    "    return np.sum(arr)"
   ]
  },
  {
   "cell_type": "code",
   "execution_count": 18,
   "metadata": {},
   "outputs": [],
   "source": [
    "import numpy as np\n",
    "def profile_most_probable_kmer(s, k, mat):\n",
    "    dic = {}\n",
    "    lis_1 = []\n",
    "    ans = []\n",
    "    dic_2 = {val:i for i,val in enumerate('ACGT')}\n",
    "    for i in range(len(s)-k+1):\n",
    "        cur_kmer = s[i:k+i]\n",
    "        #print(cur_kmer)\n",
    "        cur_prb = 1.0\n",
    "        for index,j in enumerate(cur_kmer):\n",
    "            cur_prb *= mat[dic_2[j]][index]\n",
    "        dic[cur_kmer]=cur_prb\n",
    "        lis_1.append(cur_prb)\n",
    "    #print(lis_1)\n",
    "    m = max(lis_1)\n",
    "    #print(m)\n",
    "    for i, val in dic.items():\n",
    "            if m == val:\n",
    "                ans.append(i)\n",
    "    return ans[0]"
   ]
  },
  {
   "cell_type": "code",
   "execution_count": 19,
   "metadata": {},
   "outputs": [],
   "source": [
    "import random \n",
    "from random import randint\n",
    "def randomized_motif_search(Dna, k, t):\n",
    "    motifs = []\n",
    "    rand_ints = [randint(0,len(Dna[0])-k) for a in range(t)]\n",
    "    motifs = [Dna[i][j:j+k] for i,j in enumerate(rand_ints)]\n",
    "\n",
    "    best_motifs_score = [motifs, score(motifs)]\n",
    "    while True:\n",
    "        prof = profile(motifs)\n",
    "        motifs = [profile_most_probable_kmer(s,k,prof) for s in Dna]\n",
    "        #print(motifs)\n",
    "        cur_score = score(motifs)\n",
    "        if cur_score<best_motifs_score[1]:\n",
    "\n",
    "            best_motifs_score = [motifs, cur_score]\n",
    "\n",
    "        else:\n",
    "            \n",
    "            return best_motifs_score\n"
   ]
  },
  {
   "cell_type": "code",
   "execution_count": 22,
   "metadata": {},
   "outputs": [],
   "source": [
    "dna_list = ['CGCCCCTCTCGGGGGTGTTCAGTAAACGGCCA',\n",
    "'GGGCGAGGTATGTGTAAGTGCCAAGGTGCCAG',\n",
    "'TAGTACCGAGACCGAAAGAAGTATACAGGCGT',\n",
    "'TAGATCAAGTTTCAGGTGCACGTCGGTGAACC',\n",
    "'AATCCACCAGCTCCACGTGCAATGTTGGCCTA']\n",
    "k = 8\n",
    "t = 5\n",
    "best_motifs = [None, k*t]\n",
    "for i in range(1000):\n",
    "    current_motifs = randomized_motif_search(dna_list,k,t)\n",
    "    if current_motifs[1] < best_motifs[1]:\n",
    "        best_motifs = current_motifs"
   ]
  },
  {
   "cell_type": "code",
   "execution_count": 26,
   "metadata": {},
   "outputs": [
    {
     "name": "stdout",
     "output_type": "stream",
     "text": [
      "TCTCGGGG\n",
      "CCAAGGTG\n",
      "TACAGGCG\n",
      "TTCAGGTG\n",
      "TCCACGTG\n"
     ]
    }
   ],
   "source": [
    "for i in best_motifs[0]:\n",
    "    print(i)"
   ]
  },
  {
   "cell_type": "markdown",
   "metadata": {},
   "source": [
    "# BA2G"
   ]
  },
  {
   "cell_type": "code",
   "execution_count": 27,
   "metadata": {},
   "outputs": [],
   "source": [
    "import numpy as np\n",
    "from collections import Counter\n",
    "def profile(motif):\n",
    "    #l = list(args)\n",
    "    length = len(motif)\n",
    "    lis = [Counter(list(i)) for i in zip(*motif)]\n",
    "    lis_A = [i['A']+1 for i in lis]\n",
    "    lis_C = [i['C']+1 for i in lis]\n",
    "    lis_G = [i['G']+1 for i in lis]\n",
    "    lis_T = [i['T']+1 for i in lis]\n",
    "    fin_lis = [lis_A, lis_C, lis_G, lis_T]\n",
    "    arr = np.array(fin_lis)/(4+length)\n",
    "    \n",
    "    return arr"
   ]
  },
  {
   "cell_type": "code",
   "execution_count": 28,
   "metadata": {},
   "outputs": [],
   "source": [
    "def profile_randomly_generated_kmer(s, k, mat):\n",
    "    \n",
    "    lis_1 = []\n",
    "    ans = []\n",
    "    dic = {val:i for i,val in enumerate('ACGT')}\n",
    "    for i in range(len(s)-k+1):\n",
    "        cur_kmer = s[i:k+i]\n",
    "        ans.append(cur_kmer)\n",
    "        \n",
    "        cur_prb = 1.0\n",
    "        for index,j in enumerate(cur_kmer):\n",
    "            cur_prb *= mat[dic[j]][index]\n",
    "        \n",
    "        lis_1.append(cur_prb)\n",
    "    \n",
    "    motif = random.choices(ans, lis_1)\n",
    "    \n",
    "    return motif[0]"
   ]
  },
  {
   "cell_type": "code",
   "execution_count": 29,
   "metadata": {},
   "outputs": [],
   "source": [
    "import random \n",
    "from random import randint\n",
    "def GibbsSampler(Dna, k, t, n):\n",
    "    motifs = []\n",
    "    rand_ints = [randint(0,len(Dna[0])-k) for a in range(t)]\n",
    "    motifs = [Dna[i][j:j+k] for i,j in enumerate(rand_ints)]\n",
    "\n",
    "    best_motifs = motifs\n",
    "    \n",
    "    for i in range(n):\n",
    "        j = random.randrange(t)\n",
    "        prof = profile(motifs[0:j]+motifs[j+1:])        \n",
    "        motifs[j] = profile_randomly_generated_kmer(Dna[j], k, prof)\n",
    "\n",
    "        if (score(motifs) < score(best_motifs)):\n",
    "            best_motifs = motifs\n",
    "    return best_motifs\n",
    "        "
   ]
  },
  {
   "cell_type": "code",
   "execution_count": 30,
   "metadata": {},
   "outputs": [],
   "source": [
    "k = 8\n",
    "t = 5\n",
    "n = 100\n",
    "Dna = ['CGCCCCTCTCGGGGGTGTTCAGTAAACGGCCA',\n",
    "'GGGCGAGGTATGTGTAAGTGCCAAGGTGCCAG',\n",
    "'TAGTACCGAGACCGAAAGAAGTATACAGGCGT',\n",
    "'TAGATCAAGTTTCAGGTGCACGTCGGTGAACC',\n",
    "'AATCCACCAGCTCCACGTGCAATGTTGGCCTA']\n",
    "best_motifs = GibbsSampler(Dna, k, t, n)\n",
    "best_score = score(best_motifs)\n",
    "\n",
    "for i in range(20):\n",
    "    motifs = GibbsSampler(Dna, k, t, n)\n",
    "    scr = score(motifs)\n",
    "    \n",
    "    if scr < best_score:\n",
    "        best_motifs = motifs\n",
    "        best_score = scr\n",
    " "
   ]
  },
  {
   "cell_type": "code",
   "execution_count": 31,
   "metadata": {},
   "outputs": [
    {
     "name": "stdout",
     "output_type": "stream",
     "text": [
      "GGGTGTTC\n",
      "AGGTGCCA\n",
      "AAGTATAC\n",
      "AGGTGCAC\n",
      "ACGTGCAA\n"
     ]
    }
   ],
   "source": [
    "for i in best_motifs:\n",
    "    print(i)"
   ]
  },
  {
   "cell_type": "markdown",
   "metadata": {},
   "source": [
    "# BA2H"
   ]
  },
  {
   "cell_type": "code",
   "execution_count": 187,
   "metadata": {},
   "outputs": [],
   "source": [
    "def Hamming_Distance(seq1, seq2):\n",
    "    lis = []\n",
    "    k = len(seq1)\n",
    "    for i in range(len(seq2)-k+1):\n",
    "        cur = seq2[i:k+i]\n",
    "        distance = 0\n",
    "        for j  in range(k):\n",
    "            if seq1[j] != cur[j]:\n",
    "                distance +=1\n",
    "        lis.append(distance)\n",
    "        #print(lis)\n",
    "    return min(lis)"
   ]
  },
  {
   "cell_type": "code",
   "execution_count": 188,
   "metadata": {},
   "outputs": [],
   "source": [
    "def distance_between_pattern_strings(pattern, strings):\n",
    "    dis = 0\n",
    "    for string in strings:\n",
    "        dis = dis + Hamming_Distance(pattern, string)\n",
    "    return dis"
   ]
  },
  {
   "cell_type": "code",
   "execution_count": 193,
   "metadata": {},
   "outputs": [
    {
     "name": "stdout",
     "output_type": "stream",
     "text": [
      "5\n"
     ]
    }
   ],
   "source": [
    "with open('rosalind.txt') as file:\n",
    "    inputs = file.read().split()\n",
    "    pattern = inputs[0]\n",
    "    strings = inputs[1:]\n",
    "dis = distance_between_pattern_strings(pattern, strings)\n",
    "print(dis)"
   ]
  },
  {
   "cell_type": "markdown",
   "metadata": {},
   "source": [
    "# BA3A"
   ]
  },
  {
   "cell_type": "code",
   "execution_count": 33,
   "metadata": {},
   "outputs": [],
   "source": [
    "def k_mer_composition(k, Text):\n",
    "    lis = [Text[i:i+k] for i in range (len(Text)-k+1)]\n",
    "    lis.sort()\n",
    "    return lis"
   ]
  },
  {
   "cell_type": "code",
   "execution_count": 34,
   "metadata": {},
   "outputs": [],
   "source": [
    "ans = k_mer_composition(5, 'CAATCCAAC')"
   ]
  },
  {
   "cell_type": "code",
   "execution_count": 35,
   "metadata": {},
   "outputs": [
    {
     "name": "stdout",
     "output_type": "stream",
     "text": [
      "AATCC\n",
      "ATCCA\n",
      "CAATC\n",
      "CCAAC\n",
      "TCCAA\n"
     ]
    }
   ],
   "source": [
    "for i in ans:\n",
    "    print (i)"
   ]
  },
  {
   "cell_type": "markdown",
   "metadata": {},
   "source": [
    "# BA3B"
   ]
  },
  {
   "cell_type": "code",
   "execution_count": 36,
   "metadata": {},
   "outputs": [],
   "source": [
    "def reconstruct_from_path(lis):\n",
    "    \n",
    "    ans = lis[0]\n",
    "    for i in range(len(lis)-1):\n",
    "        suf = lis[i][1:]\n",
    "        pre = lis[i+1][:-1]\n",
    "        if (suf == pre):\n",
    "            ans = ans + lis[i+1][-1]\n",
    "    return ans"
   ]
  },
  {
   "cell_type": "code",
   "execution_count": 37,
   "metadata": {},
   "outputs": [
    {
     "name": "stdout",
     "output_type": "stream",
     "text": [
      "ACCGAAGCT\n"
     ]
    }
   ],
   "source": [
    "ans = reconstruct_from_path(['ACCGA',\n",
    "'CCGAA',\n",
    "'CGAAG',\n",
    "'GAAGC',\n",
    "'AAGCT'])\n",
    "print(ans)"
   ]
  },
  {
   "cell_type": "markdown",
   "metadata": {},
   "source": [
    "# BA3C"
   ]
  },
  {
   "cell_type": "code",
   "execution_count": 38,
   "metadata": {},
   "outputs": [],
   "source": [
    "def overlap_graph_kmers(lis):\n",
    "    s = []\n",
    "    adj = []\n",
    "    \n",
    "    lis.sort()\n",
    "   \n",
    "    for i in lis:\n",
    "        pre = i[:-1]\n",
    "        #print(pre)\n",
    "        suf = i[1:]\n",
    "        #print(suf)\n",
    "        tup = [i, pre, suf]\n",
    "        s.append(tup)\n",
    "   \n",
    "    for i,j in enumerate(lis):\n",
    "        l = []\n",
    "        \n",
    "        for k in (s[0:i]+s[i+1:]):\n",
    "\n",
    "            if(s[i][2]==k[1]):\n",
    "                l.append(k[0])\n",
    "            \n",
    "        adj.append(l)\n",
    "    \n",
    "    for index, item in enumerate(lis):\n",
    "        if (len(adj[index])!=0):\n",
    "            for sub_item in adj[index]:\n",
    "                print('{} -> {}'.format(item,sub_item))\n",
    "    \n",
    "    "
   ]
  },
  {
   "cell_type": "code",
   "execution_count": 39,
   "metadata": {},
   "outputs": [
    {
     "name": "stdout",
     "output_type": "stream",
     "text": [
      "AGGCA -> GGCAT\n",
      "CATGC -> ATGCG\n",
      "GCATG -> CATGC\n",
      "GGCAT -> GCATG\n"
     ]
    }
   ],
   "source": [
    "overlap_graph_kmers(['ATGCG',\n",
    "'GCATG',\n",
    "'CATGC',\n",
    "'AGGCA',\n",
    "'GGCAT'])"
   ]
  },
  {
   "cell_type": "markdown",
   "metadata": {},
   "source": [
    "# BA3D"
   ]
  },
  {
   "cell_type": "code",
   "execution_count": 5,
   "metadata": {},
   "outputs": [],
   "source": [
    "def de_bruijn_graph(k, Dna):\n",
    "    nodes = [Dna[i:i+k-1] for i in range(len(Dna)-k+2)]\n",
    "    print(nodes)\n",
    "    dic = {node:[] for node in nodes}\n",
    "    print(dic)\n",
    "    for i,j in enumerate(nodes[:-1]):\n",
    "       \n",
    "        dic[j].append(nodes[i+1])\n",
    "    print(dic)\n",
    "    for key, val in dic.items():\n",
    "        if(len(val)!=0):\n",
    "            print('{} -> '.format(key)+ ','.join(val))"
   ]
  },
  {
   "cell_type": "code",
   "execution_count": 6,
   "metadata": {},
   "outputs": [
    {
     "name": "stdout",
     "output_type": "stream",
     "text": [
      "['AAG', 'AGA', 'GAT', 'ATT', 'TTC', 'TCT', 'CTC', 'TCT', 'CTA', 'TAC']\n",
      "{'AAG': [], 'AGA': [], 'GAT': [], 'ATT': [], 'TTC': [], 'TCT': [], 'CTC': [], 'CTA': [], 'TAC': []}\n",
      "{'AAG': ['AGA'], 'AGA': ['GAT'], 'GAT': ['ATT'], 'ATT': ['TTC'], 'TTC': ['TCT'], 'TCT': ['CTC', 'CTA'], 'CTC': ['TCT'], 'CTA': ['TAC'], 'TAC': []}\n",
      "AAG -> AGA\n",
      "AGA -> GAT\n",
      "GAT -> ATT\n",
      "ATT -> TTC\n",
      "TTC -> TCT\n",
      "TCT -> CTC,CTA\n",
      "CTC -> TCT\n",
      "CTA -> TAC\n"
     ]
    }
   ],
   "source": [
    "de_bruijn_graph(4, 'AAGATTCTCTAC')"
   ]
  },
  {
   "cell_type": "markdown",
   "metadata": {},
   "source": [
    "# BA3E"
   ]
  },
  {
   "cell_type": "code",
   "execution_count": 45,
   "metadata": {},
   "outputs": [],
   "source": [
    "def de_bruijn_graph_kmers(kmers):\n",
    "    nodes = [kmer[:-1] for kmer in kmers]\n",
    "    nodes.append(kmers[-1][1:])\n",
    "    nodes.sort()\n",
    "    dic = {node:[] for node in nodes}\n",
    "    key_val_list = [[kmer[:-1],kmer[1:]] for kmer in kmers]\n",
    "    for item in key_val_list:\n",
    "        dic[item[0]].append(item[1])\n",
    "\n",
    "    for key, val in dic.items():\n",
    "        if(len(val)!=0):\n",
    "            print('{} -> '.format(key), ','.join(val))\n",
    "    "
   ]
  },
  {
   "cell_type": "code",
   "execution_count": 47,
   "metadata": {},
   "outputs": [
    {
     "name": "stdout",
     "output_type": "stream",
     "text": [
      "AGG ->  GGG\n",
      "CAG ->  AGG,AGG\n",
      "GAG ->  AGG\n",
      "GGA ->  GAG\n",
      "GGG ->  GGG,GGA\n"
     ]
    }
   ],
   "source": [
    "with open('rosalind.txt', 'r') as file:\n",
    "    inputs = file.read().split()\n",
    "    Dna = inputs[0:]\n",
    "de_bruijn_graph_kmers(Dna)"
   ]
  },
  {
   "cell_type": "markdown",
   "metadata": {},
   "source": [
    "# BA3F"
   ]
  },
  {
   "cell_type": "code",
   "execution_count": 7,
   "metadata": {},
   "outputs": [],
   "source": [
    "def join_cycles(cycle1, cycle2):\n",
    "    \n",
    "    cycle2.pop()\n",
    "\n",
    "    join_point = cycle1.index(cycle2[0])\n",
    "    joined_nodes = cycle1[:join_point] + cycle2 + cycle1[join_point:]\n",
    "    \n",
    "    return joined_nodes"
   ]
  },
  {
   "cell_type": "code",
   "execution_count": 8,
   "metadata": {},
   "outputs": [],
   "source": [
    "def Find_Open(cycles, dic):\n",
    "    \n",
    "    for node in cycles:\n",
    "        if dic[node] !=[]:\n",
    "            return node\n",
    "    return \"Eulerian_Cycle\""
   ]
  },
  {
   "cell_type": "code",
   "execution_count": 9,
   "metadata": {},
   "outputs": [],
   "source": [
    "def Find_Cycle(cycles, dic, key):\n",
    "    cycle= []\n",
    "    if key == \"None\":\n",
    "        key = list(dic.keys())[0]\n",
    "        cycle.append(key)\n",
    "    else:\n",
    "        cycle.append(key)\n",
    "    \n",
    "    while dic[key]:\n",
    "        \n",
    "        key = dic[key].pop(0)\n",
    "        cycle.append(key)\n",
    "    \n",
    "    if cycles != []:\n",
    "        cycles = join_cycles(cycles, cycle)\n",
    "    else:\n",
    "        cycles = cycle\n",
    "        \n",
    "    return cycles, dic"
   ]
  },
  {
   "cell_type": "code",
   "execution_count": 10,
   "metadata": {},
   "outputs": [],
   "source": [
    "def Eulerian_Cycle(dic):\n",
    "    cycles = []\n",
    "    next_node = \"None\"\n",
    "    while next_node != \"Eulerian_Cycle\":\n",
    "        ans = Find_Cycle(cycles, dic, next_node)\n",
    "        cycles = ans[0]\n",
    "        dic = ans[1]\n",
    "        next_node = Find_Open(cycles, dic)\n",
    "    return cycles\n"
   ]
  },
  {
   "cell_type": "code",
   "execution_count": 57,
   "metadata": {},
   "outputs": [],
   "source": [
    "with open('rosalind.txt') as file:\n",
    "    lis = [x.rstrip() for x in file.readlines()]\n",
    "    dic = {}\n",
    "    for item in lis:\n",
    "        key = item.split(' ')[0]\n",
    "        val = item.split(' ')[-1]\n",
    "        dic[key] = val.split(',') \n",
    "#print(dic)\n",
    "#print(list(dic.keys())[0])"
   ]
  },
  {
   "cell_type": "code",
   "execution_count": 58,
   "metadata": {},
   "outputs": [
    {
     "name": "stdout",
     "output_type": "stream",
     "text": [
      "0->3->2->6->8->7->9->6->5->4->2->1->0\n"
     ]
    }
   ],
   "source": [
    "ans = Eulerian_Cycle(dic)\n",
    "#print(ans)\n",
    "print('->'.join(ans))"
   ]
  },
  {
   "cell_type": "markdown",
   "metadata": {},
   "source": [
    "# BA3G"
   ]
  },
  {
   "cell_type": "code",
   "execution_count": 7,
   "metadata": {},
   "outputs": [],
   "source": [
    "def Eulerian_path(adj_list):\n",
    "    deg_diffs = {}\n",
    "    for source, targets in adj_list.items():\n",
    "        if source in deg_diffs:\n",
    "            deg_diffs[source] += len(targets)\n",
    "        else:\n",
    "            deg_diffs[source] = len(targets)\n",
    "        for target in targets:\n",
    "            if target in deg_diffs:\n",
    "                deg_diffs[target] -= 1\n",
    "            else:\n",
    "                deg_diffs[target] = -1\n",
    "\n",
    "    to_add_s = [node for node, diff in deg_diffs.items() if diff == -1][0]\n",
    "    to_add_t = [node for node, diff in deg_diffs.items() if diff == 1][0]\n",
    "    if to_add_s in adj_list:\n",
    "        adj_list[to_add_s].append(to_add_t)\n",
    "    else:\n",
    "        adj_list[to_add_s] = [to_add_t]\n",
    "\n",
    "    cycle = Eulerian_Cycle(adj_list)\n",
    "    idx = 0\n",
    "    while True:\n",
    "        if cycle[idx] == to_add_s and cycle[idx + 1] == to_add_t:\n",
    "            break\n",
    "        idx += 1\n",
    "    return cycle[idx + 1:] + cycle[1:idx + 1]"
   ]
  },
  {
   "cell_type": "code",
   "execution_count": 10,
   "metadata": {},
   "outputs": [],
   "source": [
    "with open('rosalind.txt') as file:\n",
    "    lis = [x.rstrip() for x in file.readlines()]\n",
    "    dic = {}\n",
    "    for item in lis:\n",
    "        key = item.split(' ')[0]\n",
    "        val = item.split(' ')[-1]\n",
    "        dic[key] = val.split(',') \n"
   ]
  },
  {
   "cell_type": "code",
   "execution_count": 11,
   "metadata": {},
   "outputs": [
    {
     "name": "stdout",
     "output_type": "stream",
     "text": [
      "1796->685->686->793->2071->2073->2072->793->795->1070->2129->2529->2528->2527->2129->2130->2128->1070->1069->1071->795->794->686->197->72->70->605->738->736->737->605->1320->1319->1318->605->604->606->897->896->895->2093->2092->2094->895->2190->2188->2189->895->2672->2673->2671->895->606->2339->2397->2396->2395->2339->2338->2340->606->70->96->984->982->983->96->303->301->725->801->800->799->725->726->735->1084->1085->1609->1611->1610->1085->1086->735->734->1354->1965->1963->1964->1354->1355->1356->734->733->726->724->2284->2286->2285->724->301->302->96->95->1165->1166->1326->1324->1325->1166->1167->95->94->1889->1890->1888->94->70->133->416->417->415->133->135->134->70->40->2712->2710->2711->40->41->1436->1437->1435->41->36->35->225->408->406->1095->1093->1094->406->407->2277->2275->2276->407->745->747->746->1110->1109->1156->1158->1323->1321->1322->1158->1157->1109->1108->2155->2156->2157->1108->746->1346->2530->2531->2532->1346->1345->1959->1957->1958->1345->1347->746->1549->1550->1551->746->407->225->223->1018->2499->2497->2498->1018->1019->1020->223->1113->1111->1112->223->224->35->47->619->681->1507->1976->2799->2798->2797->1976->1975->1977->2483->2484->2482->1977->1507->1508->1509->681->1560->1772->1773->1771->2433->2432->2431->1771->1560->1558->1559->681->2314->2316->2315->681->680->846->844->845->680->1030->1032->1031->680->679->1016->1017->1305->1304->1303->1017->1015->679->619->999->997->998->1427->2018->2019->2017->2263->2265->2264->2017->1427->1426->1428->998->619->621->620->47->771->770->769->1256->1255->1257->769->47->262->264->263->47->370->988->1487->1545->1543->1544->1487->1488->1486->988->989->1553->1552->1554->989->990->370->372->1352->1353->1351->372->371->378->623->622->624->378->377->376->371->47->48->93->356->1780->2168->2167->2750->2749->2751->2167->2169->1780->1782->1781->2111->2112->2110->1781->356->357->1996->1998->1997->2295->2294->2293->1997->357->355->401->402->445->446->584->583->585->446->636->634->635->446->447->402->1639->1879->1880->1881->2445->2444->2443->1881->1639->1641->1640->402->400->927->2722->2724->2723->927->925->926->400->355->93->908->909->907->93->91->92->48->46->35->13->14->15->69->105->2613->2778->2776->2777->2613->2611->2612->105->615->1948->1950->2635->2636->2637->1950->1949->615->614->922->1180->1182->1181->922->924->923->2357->2356->2358->923->614->1476->1474->1475->614->2283->2282->2281->2306->2305->2307->2281->614->613->105->104->103->69->67->1764->1762->2773->2775->2774->1762->1763->67->68->300->2379->2377->2378->300->299->630->1099->1496->1495->1497->2666->2665->2667->1497->1099->1101->1100->630->2274->2273->2272->630->628->629->299->298->1470->1468->1469->298->68->15->1380->2109->2107->2108->1380->1378->1379->15->229->231->879->877->1197->1195->1207->1295->1294->1296->1207->1617->1882->1883->1884->1617->1616->2055->2054->2053->1616->1615->1207->1208->1209->2552->2551->2553->1209->1195->1196->877->1442->1441->1443->1753->1754->1755->1443->877->878->1301->1434->1432->1433->1562->1563->1561->1433->1301->1300->1302->878->231->230->15->3->31->32->63->62->128->320->321->319->128->127->340->341->342->127->129->155->2341->2721->2720->2719->2341->2343->2342->155->507->505->2258->2259->2257->505->506->155->156->210->239->2051->2050->2052->239->240->238->495->493->2473->2475->2474->493->494->764->765->763->494->238->210->2401->2403->2402->210->1074->1714->2614->2616->2615->1714->1715->1991->1992->1990->1715->1716->1074->1072->1073->210->209->1791->1790->1789->209->208->1023->1022->1021->208->156->547->549->1026->2253->2252->2251->1026->1024->1025->549->1570->1571->1647->2194->2196->2195->1647->1645->1646->2049->2048->2047->1646->2569->2571->2570->1646->1571->1572->549->548->156->154->1467->1465->1466->154->129->2697->2696->2695->129->62->61->900->899->898->1985->1986->1984->898->61->963->962->961->1425->1423->1523->1524->1522->1423->1424->961->61->102->259->381->2250->2249->2248->381->380->379->589->591->590->379->1198->1200->1199->379->259->727->2125->2278->2280->2279->2125->2127->2126->727->728->901->2737->2738->2739->901->902->903->728->729->259->261->1217->1218->1216->261->260->273->473->1214->1213->1875->1873->1874->2543->2542->2544->1874->1213->2759->2760->2758->1213->1215->473->474->1134->1132->2329->2330->2331->1132->1133->474->472->483->482->481->1231->1232->1233->481->1627->1628->1629->481->2322->2321->2536->2785->2786->2787->2536->2537->2538->2321->2320->481->472->273->271->2003->2004->2002->271->272->260->102->663->662->661->102->101->100->1676->1677->1675->100->61->287->288->286->61->32->33->107->106->190->2211->2209->2210->190->192->751->753->752->1729->1731->2452->2454->2453->1731->1730->752->192->191->106->108->228->1851->1850->1849->2546->2547->2545->1849->228->227->360->1051->1860->1858->1859->1051->1052->1053->360->359->358->389->1747->1749->1748->389->388->2011->2012->2013->388->390->358->227->226->108->33->3->1->0->318->554->553->699->697->698->778->1172->1743->1742->1741->1172->1173->1171->2361->2360->2359->1171->778->779->1514->1830->1829->1828->1514->1515->1513->779->2669->2670->2668->779->780->698->553->1202->1201->1203->553->555->857->1299->1298->1297->857->856->858->1757->1758->1756->858->555->318->1778->1777->2177->2178->2176->1777->1779->318->316->881->882->1038->2372->2373->2371->1038->1036->1037->882->880->316->317->0->655->657->2420->2421->2419->657->656->0->1058->1057->1059->0->2->5->504->1004->1005->1983->1981->1982->1005->1003->504->502->2427->2426->2425->502->503->5->4->9->12->113->112->114->12->37->137->1416->1414->1707->1706->1705->1414->1415->137->164->163->165->183->181->334->1164->2021->2020->2022->1164->1162->1163->334->1843->1845->1844->334->335->336->670->672->671->2405->2404->2406->671->336->181->182->876->1947->1946->1945->876->874->875->1624->1625->1626->2135->2136->2134->1626->875->182->165->798->796->797->165->137->476->475->2692->2694->2693->475->477->723->1602->1601->1600->723->721->1446->1589->1590->1861->1862->1863->1590->1588->1446->1444->2605->2606->2607->1444->1445->721->722->477->137->772->1103->1612->2183->2182->2184->1612->1614->1613->1103->2488->2490->2489->1103->1104->1102->1184->1185->1183->1102->772->774->773->137->136->153->151->1088->1087->1089->151->152->448->449->1139->1140->1138->2062->2064->2063->1138->449->450->152->136->251->250->252->136->395->394->442->444->443->717->1013->1336->1337->1338->1013->1014->1012->1500->1499->1498->1012->717->1262->1263->1261->717->716->715->2676->2675->2674->715->443->394->396->1538->1537->2031->2030->2029->1537->1539->396->463->888->886->887->463->1547->2119->2121->2120->1547->1546->1548->463->464->1211->1212->1919->1918->1920->1212->1210->464->465->396->136->138->528->526->527->1491->1490->1489->527->138->37->219->218->217->37->38->193->2572->2573->2574->193->194->221->222->1636->1638->1637->222->220->194->331->730->732->1655->2511->2510->2509->1655->1656->1654->732->2494->2496->2495->732->731->331->332->333->1809->1807->1808->333->194->195->38->39->1761->1759->2219->2218->2220->1759->1760->39->12->11->1091->1090->1092->11->17->241->274->1064->1063->1065->274->1448->1449->1447->1472->1473->2792->2791->2793->1473->1471->1447->2386->2387->2388->1447->274->1911->1909->1910->2301->2299->2300->1910->274->275->276->241->243->242->17->326->571->572->573->326->327->826->1066->1067->1068->2523->2522->2521->1068->826->828->827->849->848->847->862->1525->1526->1633->1634->1635->1526->1527->862->863->2058->2057->2056->863->864->847->1517->1516->1518->1568->2709->2708->2707->1568->1569->1567->1518->847->827->1855->1856->2447->2446->2448->1856->1857->827->2034->2033->2032->2137->2138->2139->2032->827->327->325->1587->1586->1585->325->17->109->1204->1206->1205->1927->1928->1929->1205->109->2654->2653->2655->109->111->1316->1315->1317->111->2005->2116->2117->2118->2005->2007->2006->111->110->538->540->539->110->17->143->149->158->157->489->598->2270->2269->2271->598->600->599->489->487->842->841->843->487->488->1033->1034->1798->1799->1800->1034->1035->488->157->577->579->578->157->159->149->257->511->512->1454->2504->2505->2503->1454->1455->1453->512->2389->2391->2390->512->513->257->256->258->312->311->625->626->912->1220->1221->1219->912->910->911->2555->2556->2554->911->626->627->311->310->258->840->838->1973->1974->1972->838->2780->2779->2781->838->839->258->149->438->1817->1816->1818->438->2418->2416->2417->438->436->932->1896->1895->1894->2752->2754->2753->1894->932->933->931->436->1396->1397->1398->436->437->2067->2066->2065->2618->2619->2617->2065->437->149->148->150->255->254->253->430->431->432->253->673->1936->1938->1937->2705->2706->2704->1937->673->675->777->775->1097->1481->1480->1482->1097->1098->1096->1150->2151->2149->2150->1150->1152->1151->2166->2772->2771->2770->2166->2164->2165->1151->1096->775->776->675->2680->2681->2682->675->674->2101->2102->2103->2730->2729->2728->2103->674->253->906->904->1717->1719->1718->904->1788->1786->1787->904->905->1579->1978->1979->1980->1579->1580->1581->905->253->150->485->865->1128->1126->1127->865->866->2604->2602->2603->866->867->485->2349->2347->2348->485->486->484->150->143->339->653->758->759->757->1693->1694->1695->757->653->652->654->1288->1289->1290->654->339->1242->2450->2451->2449->1242->2486->2485->2487->1242->1241->1240->339->337->338->2025->2024->2023->338->143->144->1360->1362->1876->1878->2362->2364->2363->1878->1877->2369->2370->2368->1877->1362->1361->144->142->1696->1698->1697->2215->2216->2217->1697->142->17->172->2367->2365->2366->172->244->267->790->791->792->267->265->266->1001->1002->1272->1670->1669->1671->1272->1271->1270->1002->1000->266->244->246->523->525->1967->1966->1968->2726->2727->2725->1968->525->524->246->532->1925->1924->1942->1943->1944->1924->1926->532->534->533->246->542->1009->1011->1010->1105->1107->1106->1010->542->1410->1408->1409->1866->1865->1864->1409->542->541->1187->1502->1501->2515->2516->2517->1501->1503->1187->1188->1186->541->543->246->245->478->479->480->1137->1135->1136->480->245->172->806->807->2645->2644->2646->807->805->172->173->453->451->452->2227->2229->2228->2575->2577->2576->2228->452->970->971->972->1080->1078->1079->972->452->173->174->1971->1969->1970->174->508->2520->2519->2518->508->510->509->174->17->18->2115->2114->2297->2502->2500->2501->2297->2298->2296->2114->2113->18->30->78->171->290->291->324->1364->1363->1833->1831->1832->1363->1365->1493->1492->1494->1365->324->1456->2221->2223->2222->1456->1457->2622->2620->2621->1457->1458->324->323->322->291->1838->1839->1837->291->2634->2633->2632->291->289->171->169->783->1407->1405->1406->783->782->781->2208->2207->2206->781->2686->2687->2688->781->169->170->1226->1227->1309->1311->1310->1227->1225->2457->2455->2456->1225->170->500->499->701->700->702->868->869->870->702->499->501->170->78->560->559->561->78->77->76->766->1282->1284->1283->766->768->767->1835->1834->2262->2261->2260->1834->1836->767->76->30->2203->2204->2205->30->29->708->707->833->834->832->707->1062->1440->1439->1438->1062->1686->1684->1685->1062->1061->1060->707->706->29->28->18->16->1592->1591->1593->16->232->995->1278->1276->1277->1504->1506->1505->1700->1699->1701->1505->1277->1887->1885->1886->1277->995->994->2558->2559->2557->994->996->232->233->234->16->11->44->43->51->2202->2657->2656->2658->2202->2200->2319->2318->2317->2200->2201->51->49->57->1745->1746->1744->57->56->1049->1048->1050->56->55->98->125->497->2788->2789->2790->497->498->741->739->740->498->496->125->126->124->492->490->491->124->804->803->817->818->819->803->802->124->98->175->176->1077->1075->1194->1244->1245->1243->1194->1483->1484->1485->1194->2409->2407->2408->1194->1192->1193->1075->2310->2309->2308->1075->1076->176->177->1842->1841->1840->177->98->99->97->55->1044->1042->1043->55->49->50->43->45->11->58->695->696->694->58->60->2268->2266->2267->60->59->11->10->309->516->514->517->519->2292->2291->2290->519->518->1377->1376->1375->518->514->515->1819->1820->1821->515->309->308->810->809->1178->1815->1871->1870->1872->1815->1813->1814->1178->1179->1177->809->808->308->1692->1690->1691->1869->1868->1867->2592->2590->2591->1867->2689->2691->2690->1867->1691->308->1939->1941->1940->308->307->10->565->566->567->821->822->1348->1350->1349->1596->2714->2713->2715->1596->1595->1594->1349->822->820->567->10->9->54->52->2009->2010->2174->2173->2175->2010->2008->52->201->412->684->683->860->861->1374->1373->1372->2191->2193->2192->2237->2238->2236->2192->1372->861->859->683->2524->2526->2525->683->682->412->414->1124->1385->2477->2476->2478->1385->1384->1386->1124->1123->2626->2627->2628->1123->1125->414->413->201->855->853->1533->1935->1933->1934->1533->1532->1531->853->854->2015->2016->2014->854->201->200->249->247->248->295->297->296->894->892->893->296->975->973->974->296->248->200->199->52->53->1812->1810->1811->53->2213->2214->2212->53->520->522->521->829->830->831->2735->2734->2736->831->521->53->9->8->141->202->468->2539->2540->2541->468->467->1413->2353->2355->2354->1413->1411->1412->467->466->202->1340->1954->1955->1956->1340->1341->1339->202->203->2132->2133->2131->203->204->2089->2091->2185->2187->2186->2091->2090->204->235->236->930->1146->1144->1145->930->2410->2411->2412->930->929->928->236->1368->1367->1366->236->237->292->2512->2514->2513->292->293->294->1534->1536->1535->294->237->204->632->631->2255->2256->2254->631->633->204->141->270->1260->2327->2326->2328->1260->1259->1736->1735->2383->2385->2384->2795->2796->2794->2384->1735->1737->1259->1258->1652->1653->1651->2313->2312->2311->1651->1258->270->269->1900->1902->1901->269->268->141->140->139->8->147->145->1598->1597->1599->145->212->2087->2088->2086->212->211->213->145->351->350->581->580->642->1246->1248->1680->1678->2246->2247->2245->1678->1679->1248->1247->642->641->640->1583->1584->1582->640->580->582->2662->2663->2664->582->350->1275->1273->1274->1803->1802->1801->1892->1893->1891->1801->2468->2467->2469->1801->1274->350->349->145->146->850->852->851->146->1119->1461->1459->1460->1119->1846->1847->1848->1119->1117->1118->146->166->2702->2703->2701->166->167->969->968->2458->2460->2459->968->967->167->168->421->422->423->1905->1903->1999->2001->2000->1903->1904->423->761->760->762->423->1238->2226->2225->2224->1238->1237->1239->423->168->146->8->21->82->1953->2742->2741->2740->1953->1952->1951->2568->2567->2566->2765->2766->2764->2566->1951->82->2068->2070->2069->82->354->352->353->824->825->823->976->1369->1371->1370->976->977->978->823->993->1793->1792->1794->993->992->991->823->353->575->574->576->353->82->84->836->837->835->84->1667->1666->1770->1769->1768->1666->1668->84->284->398->2733->2731->2732->398->399->397->284->285->283->84->83->123->1479->1477->1478->123->121->946->947->2440->2441->2442->947->948->1343->1804->1805->1806->1343->1342->1608->1606->2578->2579->2580->1606->1607->1342->1344->948->121->122->1169->1168->1332->1331->1330->1168->1170->122->744->742->2652->2651->2650->742->743->1916->1915->1917->743->122->815->2344->2345->2346->815->816->814->122->83->21->1175->1174->1176->2152->2153->2154->1176->21->20->19->1267->1268->1269->19->8->24->80->117->2438->2437->2439->117->115->2600->2768->2767->2769->2600->2599->2601->115->569->617->616->618->667->668->669->618->569->570->568->115->116->1709->1708->2748->2747->2746->1708->1710->116->80->1286->1285->1287->1662->1661->1660->1287->80->79->81->1335->1334->1726->1728->1727->1334->1333->81->207->205->206->329->459->1619->1618->1620->459->457->458->329->2179->2180->2181->329->328->330->206->81->216->1120->1308->1306->1307->1557->1556->2026->2028->2027->1556->1555->1307->1120->1122->2140->2141->2142->1122->1121->216->215->1987->1989->1988->215->214->81->24->936->951->2413->2472->2470->2471->2413->2415->2414->951->949->980->2718->2717->2716->980->981->979->949->950->936->934->935->945->943->1664->1663->1931->1930->1932->1663->1665->943->944->935->24->23->22->8->546->544->545->8->7->26->85->86->130->348->1312->2400->2398->2399->2466->2465->2464->2399->1312->1313->1961->1962->1960->1313->1314->348->1394->1395->1393->348->347->346->130->132->593->596->597->595->593->594->592->132->131->86->87->26->1721->1720->1722->26->25->65->872->871->873->2083->2085->2084->873->65->470->1751->1752->1750->470->471->469->1734->1826->1825->1827->1734->1733->2325->2323->2324->1733->1732->469->65->66->64->611->612->610->1785->1784->2035->2036->2588->2589->2587->2756->2757->2755->2587->2036->2037->1784->1783->610->64->88->90->393->1155->1153->1154->393->392->391->937->938->939->391->1399->1400->1401->391->756->755->754->391->90->89->64->25->2148->2147->2146->25->27->1529->1530->1528->27->364->1576->1578->1577->364->365->366->2744->2743->2745->366->418->420->703->1421->1422->1420->703->705->704->420->419->366->27->7->4->1040->1574->1575->1573->1040->1039->1131->1129->1130->1039->1041->1642->1644->1643->1041->1687->1688->1689->1041->4->6->643->645->644->2761->2763->2762->644->6->75->74->281->282->280->74->73->785->786->784->1704->1703->1702->784->73->1649->1650->1648->73->6->2->179->361->362->1907->1994->1995->1993->2144->2143->2145->1993->1907->1908->2334->2333->2332->1908->1906->362->363->639->638->637->363->179->180->710->1464->1462->1463->710->711->720->718->1008->1007->1006->718->2563->2565->2564->718->719->711->709->2041->2043->2042->709->1605->1603->1604->709->1683->1681->1682->2337->2335->2336->1682->709->180->178->2->2582->2583->2581->2->3->119->1897->2375->2376->2374->1897->1898->1899->119->120->118->1417->1419->2784->2782->2783->1419->1418->118->3->13->1657->1659->1658->1912->1914->1913->1658->13->313->2287->2288->2289->313->314->369->368->367->373->2596->2598->2597->373->375->374->367->314->713->2638->2640->2639->713->712->1564->1566->1565->712->714->965->964->966->1510->1511->1512->966->714->314->315->13->34->429->428->427->588->750->748->749->588->587->2171->2172->2170->587->586->427->34->2649->2647->2648->34->278->1028->1029->1027->278->279->277->913->2352->2351->2350->913->915->1189->1191->1190->1521->1520->1519->1190->915->914->277->34->36->42->305->435->1147->1149->1254->1252->1253->1149->1148->435->433->434->688->2506->2507->2508->688->690->2641->2642->2643->690->689->434->305->2082->2480->2479->2481->2533->2534->2535->2481->2082->2080->2081->2394->2393->2392->2081->305->306->403->647->891->890->889->2608->2609->2610->889->647->942->941->940->647->1403->1404->1402->647->646->648->403->1359->1357->1358->403->405->1081->1083->1082->405->404->306->2075->2074->2076->306->304->678->883->2623->2625->2624->883->884->1823->1822->1824->884->885->1853->1852->1854->885->678->677->788->789->787->1712->1922->1921->1923->1712->1711->1713->2045->2044->2046->1713->2232->2231->2230->1713->787->677->2461->2463->2462->677->676->1674->1673->1766->1765->1767->1673->1672->676->304->42->40->71->162->1776->1774->1775->162->160->2124->2123->2122->160->161->185->455->957->2040->2039->2038->957->2162->2161->2163->957->955->956->455->1141->1142->1143->455->454->456->185->551->1159->1266->1265->1264->1542->1541->1540->1264->1159->1160->1161->551->2097->2096->2095->551->552->550->2078->2077->2079->550->185->186->440->919->921->920->440->439->441->186->184->918->2059->2061->2435->2434->2436->2061->2060->918->917->1045->2380->2381->2382->1045->1047->2244->2242->2243->1047->1046->917->916->184->161->382->383->384->558->2492->2493->2491->558->557->1222->1223->1224->557->556->691->693->692->556->384->161->409->1329->1328->1327->409->411->536->537->535->411->410->161->71->72->188->1622->1623->2585->2586->2584->1623->1621->188->189->2106->2105->2104->189->608->609->607->811->812->1293->1292->1291->812->813->607->189->187->385->386->1115->1383->1724->1725->1723->1383->1381->1382->1115->1391->2235->2684->2683->2685->2235->2233->2234->1391->1390->1631->1632->2429->2430->2428->1632->1630->1390->1392->1115->1116->1114->386->387->187->72->196->198->344->343->1450->1452->2424->2423->2422->1452->2631->2629->2630->1452->1451->343->345->198->460->665->664->952->953->954->664->666->460->461->1230->1229->1228->461->462->2199->2197->2303->2302->2304->2197->2198->462->529->564->562->1235->1234->1236->562->563->529->602->958->959->1430->1429->1431->959->2549->2660->2659->2661->2549->2548->2550->959->960->1056->1054->1055->960->602->1740->1738->1739->602->603->601->529->531->530->462->659->2562->2560->2677->2679->2678->2560->2561->659->660->658->2698->2700->2699->658->462->198->650->651->649->198->197->426->425->1387->1389->1388->2099->2100->2098->1388->2159->2160->2594->2595->2593->2160->2158->1388->425->424->985->1249->1250->2241->2240->2239->1250->1251->985->987->986->424->1281->1280->1279->424->197->687->685->1797\n"
     ]
    }
   ],
   "source": [
    "ans = Eulerian_path(dic)\n",
    "print('->'.join(ans))"
   ]
  },
  {
   "cell_type": "markdown",
   "metadata": {},
   "source": [
    "# BA3H"
   ]
  },
  {
   "cell_type": "code",
   "execution_count": 208,
   "metadata": {},
   "outputs": [],
   "source": [
    "def de_bruijn_graph_kmers(kmers):\n",
    "    nodes = [kmer[:-1] for kmer in kmers]\n",
    "    nodes.append(kmers[-1][1:])\n",
    "    nodes.sort()\n",
    "    dic = {node:[] for node in nodes}\n",
    "    key_val_list = [[kmer[:-1],kmer[1:]] for kmer in kmers]\n",
    "    for item in key_val_list:\n",
    "        dic[item[0]].append(item[1])\n",
    "\n",
    "    return dic"
   ]
  },
  {
   "cell_type": "code",
   "execution_count": 209,
   "metadata": {},
   "outputs": [],
   "source": [
    "def Eulerian_path(adj_list):\n",
    "    deg_diffs = {}\n",
    "    for source, targets in adj_list.items():\n",
    "        if source in deg_diffs:\n",
    "            deg_diffs[source] += len(targets)\n",
    "        else:\n",
    "            deg_diffs[source] = len(targets)\n",
    "        for target in targets:\n",
    "            if target in deg_diffs:\n",
    "                deg_diffs[target] -= 1\n",
    "            else:\n",
    "                deg_diffs[target] = -1\n",
    "\n",
    "    to_add_s = [node for node, diff in deg_diffs.items() if diff == -1][0]\n",
    "    to_add_t = [node for node, diff in deg_diffs.items() if diff == 1][0]\n",
    "    if to_add_s in adj_list:\n",
    "        adj_list[to_add_s].append(to_add_t)\n",
    "    else:\n",
    "        adj_list[to_add_s] = [to_add_t]\n",
    "\n",
    "    cycle = Eulerian_Cycle(adj_list)\n",
    "    idx = 0\n",
    "    while True:\n",
    "        if cycle[idx] == to_add_s and cycle[idx + 1] == to_add_t:\n",
    "            break\n",
    "        idx += 1\n",
    "    return cycle[idx + 1:] + cycle[1:idx + 1]\n",
    "\n"
   ]
  },
  {
   "cell_type": "code",
   "execution_count": 210,
   "metadata": {},
   "outputs": [],
   "source": [
    "def reconstruct_from_kmers(k, strings):\n",
    "    dic = de_bruijn_graph_kmers(strings)\n",
    "    euler_path = Eulerian_path(dic)\n",
    "    \n",
    "    string = euler_path[0][:-1]\n",
    "    \n",
    "    for s in euler_path:\n",
    "        string += s[-1]\n",
    "    return string"
   ]
  },
  {
   "cell_type": "code",
   "execution_count": 212,
   "metadata": {},
   "outputs": [],
   "source": [
    "with open('rosalind.txt', 'r') as file:\n",
    "    inputs = file.read().split()\n",
    "    k = int(inputs[0])\n",
    "    lis = inputs[1:]\n",
    "    #print(lis)"
   ]
  },
  {
   "cell_type": "code",
   "execution_count": 213,
   "metadata": {},
   "outputs": [
    {
     "name": "stdout",
     "output_type": "stream",
     "text": [
      "GGCTTACCA\n"
     ]
    }
   ],
   "source": [
    "print(reconstruct_from_kmers(k,lis))"
   ]
  },
  {
   "cell_type": "markdown",
   "metadata": {},
   "source": [
    "# BA3i"
   ]
  },
  {
   "cell_type": "code",
   "execution_count": 11,
   "metadata": {},
   "outputs": [],
   "source": [
    "def de_bruijn_graph_kmers(kmers):\n",
    "    nodes = [kmer[:-1] for kmer in kmers]\n",
    "    nodes.append(kmers[-1][1:])\n",
    "    nodes.sort()\n",
    "    dic = {node:[] for node in nodes}\n",
    "    key_val_list = [[kmer[:-1],kmer[1:]] for kmer in kmers]\n",
    "    for item in key_val_list:\n",
    "        dic[item[0]].append(item[1])\n",
    "\n",
    "    return dic"
   ]
  },
  {
   "cell_type": "code",
   "execution_count": 18,
   "metadata": {},
   "outputs": [],
   "source": [
    "def k_universal_string(k):\n",
    "    lis = []\n",
    "    for i in range(2**k):\n",
    "        lis.append(f'{i:b}'.zfill(k))\n",
    "    #print(lis)\n",
    "    \n",
    "    dic = de_bruijn_graph_kmers(lis)\n",
    "    cycle = Eulerian_Cycle(dic)\n",
    "    print(cycle)\n",
    "    cycle = cycle[:len(cycle) - k + 1]\n",
    "    print(cycle)\n",
    "    string = cycle[0][:-1]\n",
    "    print(string)\n",
    "    for r in cycle:\n",
    "        string += r[-1]\n",
    "        \n",
    "    return string"
   ]
  },
  {
   "cell_type": "code",
   "execution_count": 19,
   "metadata": {},
   "outputs": [
    {
     "name": "stdout",
     "output_type": "stream",
     "text": [
      "['0000000', '0000000', '0000001', '0000011', '0000111', '0001111', '0011111', '0111111', '1111111', '1111111', '1111110', '1111101', '1111010', '1110101', '1101010', '1010101', '0101010', '1010101', '0101011', '1010111', '0101110', '1011101', '0111010', '1110101', '1101011', '1010110', '0101101', '1011011', '0110110', '1101101', '1011010', '0110101', '1101011', '1010111', '0101111', '1011111', '0111110', '1111101', '1111011', '1110110', '1101101', '1011011', '0110111', '1101111', '1011110', '0111101', '1111011', '1110111', '1101110', '1011101', '0111011', '1110111', '1101111', '1011111', '0111111', '1111110', '1111100', '1111001', '1110010', '1100100', '1001001', '0010010', '0100101', '1001010', '0010100', '0101001', '1010010', '0100100', '1001001', '0010011', '0100111', '1001110', '0011100', '0111001', '1110010', '1100101', '1001010', '0010101', '0101011', '1010110', '0101100', '1011001', '0110010', '1100101', '1001011', '0010110', '0101101', '1011010', '0110100', '1101001', '1010010', '0100101', '1001011', '0010111', '0101111', '1011110', '0111100', '1111001', '1110011', '1100110', '1001100', '0011001', '0110011', '1100110', '1001101', '0011010', '0110101', '1101010', '1010100', '0101001', '1010011', '0100110', '1001101', '0011011', '0110111', '1101110', '1011100', '0111001', '1110011', '1100111', '1001110', '0011101', '0111011', '1110110', '1101100', '1011001', '0110011', '1100111', '1001111', '0011110', '0111101', '1111010', '1110100', '1101001', '1010011', '0100111', '1001111', '0011111', '0111110', '1111100', '1111000', '1110001', '1100010', '1000100', '0001000', '0010001', '0100010', '1000100', '0001001', '0010011', '0100110', '1001100', '0011000', '0110001', '1100010', '1000101', '0001010', '0010101', '0101010', '1010100', '0101000', '1010001', '0100010', '1000101', '0001011', '0010111', '0101110', '1011100', '0111000', '1110001', '1100011', '1000110', '0001100', '0011001', '0110010', '1100100', '1001000', '0010001', '0100011', '1000110', '0001101', '0011011', '0110110', '1101100', '1011000', '0110001', '1100011', '1000111', '0001110', '0011101', '0111010', '1110100', '1101000', '1010001', '0100011', '1000111', '0001111', '0011110', '0111100', '1111000', '1110000', '1100001', '1000010', '0000100', '0001001', '0010010', '0100100', '1001000', '0010000', '0100001', '1000010', '0000101', '0001011', '0010110', '0101100', '1011000', '0110000', '1100001', '1000011', '0000110', '0001101', '0011010', '0110100', '1101000', '1010000', '0100001', '1000011', '0000111', '0001110', '0011100', '0111000', '1110000', '1100000', '1000001', '0000010', '0000101', '0001010', '0010100', '0101000', '1010000', '0100000', '1000001', '0000011', '0000110', '0001100', '0011000', '0110000', '1100000', '1000000', '0000001', '0000010', '0000100', '0001000', '0010000', '0100000', '1000000', '0000000']\n",
      "['0000000', '0000000', '0000001', '0000011', '0000111', '0001111', '0011111', '0111111', '1111111', '1111111', '1111110', '1111101', '1111010', '1110101', '1101010', '1010101', '0101010', '1010101', '0101011', '1010111', '0101110', '1011101', '0111010', '1110101', '1101011', '1010110', '0101101', '1011011', '0110110', '1101101', '1011010', '0110101', '1101011', '1010111', '0101111', '1011111', '0111110', '1111101', '1111011', '1110110', '1101101', '1011011', '0110111', '1101111', '1011110', '0111101', '1111011', '1110111', '1101110', '1011101', '0111011', '1110111', '1101111', '1011111', '0111111', '1111110', '1111100', '1111001', '1110010', '1100100', '1001001', '0010010', '0100101', '1001010', '0010100', '0101001', '1010010', '0100100', '1001001', '0010011', '0100111', '1001110', '0011100', '0111001', '1110010', '1100101', '1001010', '0010101', '0101011', '1010110', '0101100', '1011001', '0110010', '1100101', '1001011', '0010110', '0101101', '1011010', '0110100', '1101001', '1010010', '0100101', '1001011', '0010111', '0101111', '1011110', '0111100', '1111001', '1110011', '1100110', '1001100', '0011001', '0110011', '1100110', '1001101', '0011010', '0110101', '1101010', '1010100', '0101001', '1010011', '0100110', '1001101', '0011011', '0110111', '1101110', '1011100', '0111001', '1110011', '1100111', '1001110', '0011101', '0111011', '1110110', '1101100', '1011001', '0110011', '1100111', '1001111', '0011110', '0111101', '1111010', '1110100', '1101001', '1010011', '0100111', '1001111', '0011111', '0111110', '1111100', '1111000', '1110001', '1100010', '1000100', '0001000', '0010001', '0100010', '1000100', '0001001', '0010011', '0100110', '1001100', '0011000', '0110001', '1100010', '1000101', '0001010', '0010101', '0101010', '1010100', '0101000', '1010001', '0100010', '1000101', '0001011', '0010111', '0101110', '1011100', '0111000', '1110001', '1100011', '1000110', '0001100', '0011001', '0110010', '1100100', '1001000', '0010001', '0100011', '1000110', '0001101', '0011011', '0110110', '1101100', '1011000', '0110001', '1100011', '1000111', '0001110', '0011101', '0111010', '1110100', '1101000', '1010001', '0100011', '1000111', '0001111', '0011110', '0111100', '1111000', '1110000', '1100001', '1000010', '0000100', '0001001', '0010010', '0100100', '1001000', '0010000', '0100001', '1000010', '0000101', '0001011', '0010110', '0101100', '1011000', '0110000', '1100001', '1000011', '0000110', '0001101', '0011010', '0110100', '1101000', '1010000', '0100001', '1000011', '0000111', '0001110', '0011100', '0111000', '1110000', '1100000', '1000001', '0000010', '0000101', '0001010', '0010100', '0101000', '1010000', '0100000', '1000001', '0000011', '0000110', '0001100', '0011000', '0110000', '1100000', '1000000', '0000001']\n",
      "000000\n",
      "0000000011111111010101011101011011010111110110111101110111111001001010010011100101011001011010010111100110011010100110111001110110011110100111110001000100110001010100010111000110010001101100011101000111100001001000010110000110100001110000010100000110000001\n"
     ]
    }
   ],
   "source": [
    "ans = k_universal_string(8)\n",
    "print(ans)"
   ]
  },
  {
   "cell_type": "markdown",
   "metadata": {},
   "source": [
    "# BA3j"
   ]
  },
  {
   "cell_type": "code",
   "execution_count": 234,
   "metadata": {},
   "outputs": [],
   "source": [
    "from collections import defaultdict\n",
    "def deBruijn_graph_paired_reads(paired_reads):\n",
    "    adj_list = defaultdict(list)\n",
    "    for pair in paired_reads:\n",
    "        adj_list[(pair[0][:-1], pair[1][:-1])].append((pair[0][1:], pair[1][1:]))\n",
    "    return adj_list\n",
    "\n",
    "\n",
    "def StringSpelledByGappedPatterns(GappedPatterns, k, d):\n",
    "    prefix_string = ''\n",
    "    suffix_string = ''\n",
    "    for i, pattern_pair in enumerate(GappedPatterns):\n",
    "        if i != len(GappedPatterns) - 1:\n",
    "            prefix_string += pattern_pair[0][0]\n",
    "            suffix_string += pattern_pair[1][0]\n",
    "        else:\n",
    "            prefix_string += pattern_pair[0]\n",
    "            suffix_string += pattern_pair[1]\n",
    "    for i in range(k + d + 1, len(prefix_string)):\n",
    "        if prefix_string[i] != suffix_string[i - k - d - 1]:\n",
    "            return -1\n",
    "    return prefix_string + suffix_string[len(suffix_string) - k - d - 1:]\n",
    "\n",
    "\n",
    "def string_reconstruction_read_pairs(k, d, paired_reads):\n",
    "    adj_list = deBruijn_graph_paired_reads(paired_reads)\n",
    "    path = Eulerian_path(adj_list)\n",
    "    return StringSpelledByGappedPatterns(path, k - 1, d)"
   ]
  },
  {
   "cell_type": "code",
   "execution_count": 239,
   "metadata": {},
   "outputs": [],
   "source": [
    "with open('rosalind.txt') as file:\n",
    "    inputs = file.read().split()\n",
    "k = int(inputs[0])\n",
    "d = int(inputs[1])\n",
    "paired_reads = [i.split('|') for i in inputs[2:]]\n",
    "\n",
    "ans = string_reconstruction_read_pairs(k, d, paired_reads)"
   ]
  },
  {
   "cell_type": "code",
   "execution_count": 240,
   "metadata": {},
   "outputs": [
    {
     "name": "stdout",
     "output_type": "stream",
     "text": [
      "GTGGTCGTGAGATGTTGA\n"
     ]
    }
   ],
   "source": [
    "print(ans)"
   ]
  },
  {
   "cell_type": "markdown",
   "metadata": {},
   "source": [
    "# BA3K"
   ]
  },
  {
   "cell_type": "code",
   "execution_count": 61,
   "metadata": {},
   "outputs": [],
   "source": [
    "def remove_edge(adj_list, from_node, to_node):\n",
    "    adj_list[from_node].remove(to_node)\n",
    "    if not adj_list[from_node]:\n",
    "        del adj_list[from_node]\n",
    "    return adj_list"
   ]
  },
  {
   "cell_type": "code",
   "execution_count": 62,
   "metadata": {},
   "outputs": [],
   "source": [
    "def maximal_non_branching_paths(adj_list):\n",
    "    paths = []\n",
    "\n",
    "    # in and out degrees\n",
    "    in_out_degrees = {}\n",
    "    for source, targets in adj_list.items():\n",
    "        if source not in in_out_degrees:\n",
    "            in_out_degrees[source] = [0, len(targets)]\n",
    "        else:\n",
    "            in_out_degrees[source][1] += len(targets)\n",
    "\n",
    "        for target in targets:\n",
    "            if target not in in_out_degrees:\n",
    "                in_out_degrees[target] = [1, 0]\n",
    "            else:\n",
    "                in_out_degrees[target][0] += 1\n",
    "\n",
    "    # find all non-branching paths\n",
    "    for v in list(in_out_degrees):\n",
    "        if in_out_degrees[v] != [1, 1]:\n",
    "            if in_out_degrees[v][1] > 0:\n",
    "                while v in adj_list:\n",
    "                    w = adj_list[v][0]\n",
    "                    non_branching_path = [v, w]\n",
    "                    adj_list = remove_edge(adj_list, v, w)\n",
    "                    while in_out_degrees[w] == [1, 1]:\n",
    "                        u = adj_list[w][0]\n",
    "                        non_branching_path.append(u)\n",
    "                        adj_list = remove_edge(adj_list, w, u)\n",
    "                        w = u\n",
    "                    paths.append(non_branching_path)\n",
    "\n",
    "    # find isolated cycles\n",
    "    while adj_list:\n",
    "        start_node = list(adj_list)[0]\n",
    "        current_node = adj_list[start_node][0]\n",
    "        adj_list = remove_edge(adj_list, start_node, current_node)\n",
    "        cycle = [start_node, current_node]\n",
    "        while current_node != start_node:\n",
    "            target_node = adj_list[current_node][0]\n",
    "            cycle.append(target_node)\n",
    "            adj_list = remove_edge(adj_list, current_node, target_node)\n",
    "            current_node = target_node\n",
    "        paths.append(cycle)\n",
    "\n",
    "    return paths\n"
   ]
  },
  {
   "cell_type": "code",
   "execution_count": 63,
   "metadata": {},
   "outputs": [],
   "source": [
    "def form_contigs(strings):\n",
    "    contigs = []\n",
    "    dic = de_bruijn_graph_kmers(strings)\n",
    "    path_list = maximal_non_branching_paths(dic)\n",
    "    \n",
    "    for path in path_list:\n",
    "        contig = path[0]\n",
    "        \n",
    "        for i in range(1, len(path)):\n",
    "            contig += path[i][-1]\n",
    "        contigs.append(contig)\n",
    "        \n",
    "    return contigs"
   ]
  },
  {
   "cell_type": "code",
   "execution_count": 64,
   "metadata": {},
   "outputs": [],
   "source": [
    "with open('rosalind.txt') as file:\n",
    "    strings =  file.read().split()"
   ]
  },
  {
   "cell_type": "code",
   "execution_count": 65,
   "metadata": {},
   "outputs": [
    {
     "name": "stdout",
     "output_type": "stream",
     "text": [
      "AGA GAT ATG ATG TGT TGGA CAT\n"
     ]
    }
   ],
   "source": [
    "ans = form_contigs(strings)\n",
    "print(*ans)"
   ]
  },
  {
   "cell_type": "markdown",
   "metadata": {},
   "source": [
    "# BA3L"
   ]
  },
  {
   "cell_type": "code",
   "execution_count": 247,
   "metadata": {},
   "outputs": [],
   "source": [
    "def StringSpelledByGappedPatterns(GappedPatterns, k, d):\n",
    "    prefix_string = ''\n",
    "    suffix_string = ''\n",
    "    for i, pattern_pair in enumerate(GappedPatterns):\n",
    "        if i != len(GappedPatterns) - 1:\n",
    "            prefix_string += pattern_pair[0][0]\n",
    "            suffix_string += pattern_pair[1][0]\n",
    "        else:\n",
    "            prefix_string += pattern_pair[0]\n",
    "            suffix_string += pattern_pair[1]\n",
    "    for i in range(k + d + 1, len(prefix_string)):\n",
    "        if prefix_string[i] != suffix_string[i - k - d - 1]:\n",
    "            return -1\n",
    "    return prefix_string + suffix_string[len(suffix_string) - k - d - 1:]\n"
   ]
  },
  {
   "cell_type": "code",
   "execution_count": 252,
   "metadata": {},
   "outputs": [],
   "source": [
    "with open('rosalind.txt') as file:\n",
    "    inputs = file.read().split()\n",
    "k = int(inputs[0])\n",
    "d = int(inputs[1])\n",
    "gapped_patterns = [i.split('|') for i in inputs[2:]]\n",
    "\n",
    "ans = StringSpelledByGappedPatterns(gapped_patterns, k-1, d)"
   ]
  },
  {
   "cell_type": "code",
   "execution_count": 253,
   "metadata": {},
   "outputs": [
    {
     "name": "stdout",
     "output_type": "stream",
     "text": [
      "GACCGAGCGCCGGA\n"
     ]
    }
   ],
   "source": [
    "print(ans)"
   ]
  },
  {
   "cell_type": "markdown",
   "metadata": {},
   "source": [
    "# BA3M"
   ]
  },
  {
   "cell_type": "code",
   "execution_count": 12,
   "metadata": {},
   "outputs": [],
   "source": [
    "def remove_edge(adj_list, from_node, to_node):\n",
    "    adj_list[from_node].remove(to_node)\n",
    "    if not adj_list[from_node]:\n",
    "        del adj_list[from_node]\n",
    "    return adj_list"
   ]
  },
  {
   "cell_type": "code",
   "execution_count": 13,
   "metadata": {},
   "outputs": [],
   "source": [
    "def maximal_non_branching_paths(adj_list):\n",
    "    paths = []\n",
    "\n",
    "    # in and out degrees\n",
    "    in_out_degrees = {}\n",
    "    for source, targets in adj_list.items():\n",
    "        if source not in in_out_degrees:\n",
    "            in_out_degrees[source] = [0, len(targets)]\n",
    "        else:\n",
    "            in_out_degrees[source][1] += len(targets)\n",
    "\n",
    "        for target in targets:\n",
    "            if target not in in_out_degrees:\n",
    "                in_out_degrees[target] = [1, 0]\n",
    "            else:\n",
    "                in_out_degrees[target][0] += 1\n",
    "\n",
    "    # find all non-branching paths\n",
    "    for v in list(in_out_degrees):\n",
    "        if in_out_degrees[v] != [1, 1]:\n",
    "            if in_out_degrees[v][1] > 0:\n",
    "                while v in adj_list:\n",
    "                    w = adj_list[v][0]\n",
    "                    non_branching_path = [v, w]\n",
    "                    adj_list = remove_edge(adj_list, v, w)\n",
    "                    while in_out_degrees[w] == [1, 1]:\n",
    "                        u = adj_list[w][0]\n",
    "                        non_branching_path.append(u)\n",
    "                        adj_list = remove_edge(adj_list, w, u)\n",
    "                        w = u\n",
    "                    paths.append(non_branching_path)\n",
    "\n",
    "    # find isolated cycles\n",
    "    while adj_list:\n",
    "        start_node = list(adj_list)[0]\n",
    "        current_node = adj_list[start_node][0]\n",
    "        adj_list = remove_edge(adj_list, start_node, current_node)\n",
    "        cycle = [start_node, current_node]\n",
    "        while current_node != start_node:\n",
    "            target_node = adj_list[current_node][0]\n",
    "            cycle.append(target_node)\n",
    "            adj_list = remove_edge(adj_list, current_node, target_node)\n",
    "            current_node = target_node\n",
    "        paths.append(cycle)\n",
    "\n",
    "    return paths\n"
   ]
  },
  {
   "cell_type": "code",
   "execution_count": 22,
   "metadata": {},
   "outputs": [],
   "source": [
    "with open('rosalind.txt') as file:\n",
    "    lis = [x.rstrip() for x in file.readlines()]\n",
    "    dic = {}\n",
    "    for item in lis:\n",
    "        key = item.split(' ')[0]\n",
    "        val = item.split(' ')[-1]\n",
    "        dic[key] = val.split(',') \n"
   ]
  },
  {
   "cell_type": "code",
   "execution_count": 23,
   "metadata": {},
   "outputs": [
    {
     "name": "stdout",
     "output_type": "stream",
     "text": [
      "100->330->361->153->101->332->130->193->32->158->137->132->228->299->135\n",
      "100->135\n",
      "6->396->7->304->252->146\n",
      "6->146\n",
      "146->43->51->394->269->249->2->254->4->100\n",
      "362->203->264->159->393->238->272->27->195->139->309\n",
      "362->309\n",
      "312->40->86->378->107->180->364\n",
      "312->364\n",
      "46->319->351->19->60->315->126->163\n",
      "48->156->76->74->78->268->39->285->186->298->164->92\n",
      "48->92\n",
      "92->197->301->294->113->259->368->88->284->12->121->188->198->262\n",
      "58->145->346->347->357->237->251->239->369->66->73->155->383->278->226->207\n",
      "58->207\n",
      "207->89->168\n",
      "349->293->56->122->300->170->342->327->341->119->277->217->179->115->208\n",
      "349->208\n",
      "68->221->356->321->232->34->161->93->289->177->149->218->46\n",
      "68->46\n",
      "168->62->243->136->219->54->270->372->11->353->157->167\n",
      "168->167\n",
      "135->212->311->374->230->116->282->308->24->312\n",
      "110->114->95->30->276->291->1->384->189->391->358->82->118->48\n",
      "208->72->367->42->305->263->142->390->213->316->348\n",
      "163->224->79->248->175->322->202->345->314\n",
      "163->314\n",
      "206->381->150->96->255->187->169->75->64->63->151->265->124\n",
      "134->395->87->339->199->8->388->14->196->184->389->185->326->215->6\n",
      "309->176->53->355->211->55->109->271->117->65->349\n",
      "154->84->104->235->45->371->69->140->129->206\n",
      "154->206\n",
      "167->49->181->172->25->38->386->125->220->85->144->329->279->286->68\n",
      "314->120->138->273->201->223->318->354->240->375->80->13->97->246->399->171->234\n",
      "200->258->141->67->102->44->162->58\n",
      "234->242->50->275->245->134\n",
      "234->134\n",
      "364->214->377->178->310->194->183->28->320->94->385->280->21->362\n",
      "262->52->344->77->292->266->166->81->307->165->200\n",
      "262->200\n",
      "363->131->225->350->241->209->61->352->387->154\n",
      "348->296->0->295->143->337->257->256->152->33->216->363\n",
      "348->363\n",
      "3->229->112->313->290->105->29->338->231->250->380->41->236->360->227->36->247->103->205->325->3\n",
      "5->260->340->343->57->233->297->106->328->274->335->379->128->91->173->244->70->133->71->324->5\n",
      "9->287->210->31->17->253->333->382->359->15->98->47->331->160->20->267->26->83->283->302->9\n",
      "10->373->37->323->204->16->192->174->147->222->365->366->317->111->334->306->123->392->182->281->10\n",
      "18->261->90->148->336->398->35->127->99->22->303->376->23->59->190->370->397->108->288->191->18\n"
     ]
    }
   ],
   "source": [
    "ans = maximal_non_branching_paths(dic)\n",
    "for i in ans:\n",
    "    print('->'.join(i))"
   ]
  },
  {
   "cell_type": "code",
   "execution_count": null,
   "metadata": {},
   "outputs": [],
   "source": []
  }
 ],
 "metadata": {
  "kernelspec": {
   "display_name": "Python 3",
   "language": "python",
   "name": "python3"
  },
  "language_info": {
   "codemirror_mode": {
    "name": "ipython",
    "version": 3
   },
   "file_extension": ".py",
   "mimetype": "text/x-python",
   "name": "python",
   "nbconvert_exporter": "python",
   "pygments_lexer": "ipython3",
   "version": "3.7.6"
  }
 },
 "nbformat": 4,
 "nbformat_minor": 4
}
